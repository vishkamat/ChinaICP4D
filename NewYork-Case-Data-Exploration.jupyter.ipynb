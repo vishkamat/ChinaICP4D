{
 "cells": [
  {
   "cell_type": "markdown",
   "metadata": {
    "collapsed": true,
    "deletable": true,
    "editable": true
   },
   "source": [
    "# Exploring Heating Problems in Manhattan\n",
    "\n",
    "In this notebook we will investigate New York City's 311 Complaints data, which is available as part of NYC Open Data. \n",
    "\n",
    "In particular we are interested in Heating Complaints within the Manhattan Borough. In this notebook, we will be exploring the data, using Spark's SQL module and the visualization tool Brunel.\n",
    "\n",
    "During the months of October to May, residents of NYC can call 311 to report that a building doesn't have enough heat or hot water. In the remaining months, June to September, complaints can be made that heating has been left on. \n",
    "\n",
    "There may be a number of different factors that contribute to heating complaints, we will select a few of the features available in our data to see if they suggest any correlation.\n",
    "\n",
    "***\n",
    "\n",
    "## Read the Data\n"
   ]
  },
  {
   "cell_type": "code",
   "execution_count": 2,
   "metadata": {
    "collapsed": true,
    "deletable": true,
    "editable": true
   },
   "outputs": [],
   "source": [
    "from pyspark.sql import SparkSession\n",
    "import brunel"
   ]
  },
  {
   "cell_type": "code",
   "execution_count": 3,
   "metadata": {
    "collapsed": true,
    "deletable": true,
    "editable": true
   },
   "outputs": [],
   "source": [
    "spark = SparkSession.builder.appName('NewYorkCase').getOrCreate()"
   ]
  },
  {
   "cell_type": "code",
   "execution_count": 4,
   "metadata": {
    "collapsed": false,
    "deletable": true,
    "editable": true
   },
   "outputs": [],
   "source": [
    "nyc311DF=spark.read.csv('../datasets/311_Service_Requests_from_2015_subset.csv',header=True)"
   ]
  },
  {
   "cell_type": "code",
   "execution_count": 5,
   "metadata": {
    "collapsed": false,
    "deletable": true,
    "editable": true
   },
   "outputs": [
    {
     "data": {
      "text/plain": [
       "9999"
      ]
     },
     "execution_count": 5,
     "metadata": {},
     "output_type": "execute_result"
    }
   ],
   "source": [
    "nyc311DF.count()"
   ]
  },
  {
   "cell_type": "code",
   "execution_count": 9,
   "metadata": {
    "collapsed": false,
    "deletable": true,
    "editable": true
   },
   "outputs": [
    {
     "name": "stdout",
     "output_type": "stream",
     "text": [
      "root\n",
      " |-- UniqueKey: string (nullable = true)\n",
      " |-- CreatedDate: string (nullable = true)\n",
      " |-- ClosedDate: string (nullable = true)\n",
      " |-- Agency: string (nullable = true)\n",
      " |-- AgencyName: string (nullable = true)\n",
      " |-- ComplaintType: string (nullable = true)\n",
      " |-- Descriptor: string (nullable = true)\n",
      " |-- LocationType: string (nullable = true)\n",
      " |-- IncidentZip: string (nullable = true)\n",
      " |-- IncidentAddress: string (nullable = true)\n",
      " |-- StreetName: string (nullable = true)\n",
      " |-- CrossStreet1: string (nullable = true)\n",
      " |-- CrossStreet2: string (nullable = true)\n",
      " |-- IntersectionStreet1: string (nullable = true)\n",
      " |-- IntersectionStreet2: string (nullable = true)\n",
      " |-- AddressType: string (nullable = true)\n",
      " |-- City: string (nullable = true)\n",
      " |-- Landmark: string (nullable = true)\n",
      " |-- FacilityType: string (nullable = true)\n",
      " |-- Status: string (nullable = true)\n",
      " |-- DueDate: string (nullable = true)\n",
      " |-- ResolutionDescription: string (nullable = true)\n",
      " |-- ResolutionActionUpdatedDate: string (nullable = true)\n",
      " |-- CommunityBoard: string (nullable = true)\n",
      " |-- Borough: string (nullable = true)\n",
      " |-- XCoordinateStatePlane: string (nullable = true)\n",
      " |-- YCoordinateStatePlane: string (nullable = true)\n",
      " |-- ParkFacilityName: string (nullable = true)\n",
      " |-- ParkBorough: string (nullable = true)\n",
      " |-- SchoolName: string (nullable = true)\n",
      " |-- SchoolNumber: string (nullable = true)\n",
      " |-- SchoolRegion: string (nullable = true)\n",
      " |-- SchoolCode: string (nullable = true)\n",
      " |-- SchoolPhoneNumber: string (nullable = true)\n",
      " |-- SchoolAddress: string (nullable = true)\n",
      " |-- SchoolCity: string (nullable = true)\n",
      " |-- SchoolState: string (nullable = true)\n",
      " |-- SchoolZip: string (nullable = true)\n",
      " |-- SchoolNotFound: string (nullable = true)\n",
      " |-- SchoolOrCitywideComplaint: string (nullable = true)\n",
      " |-- VehicleType: string (nullable = true)\n",
      " |-- TaxiCompanyBorough: string (nullable = true)\n",
      " |-- TaxiPickUpLocation: string (nullable = true)\n",
      " |-- BridgeHighwayName: string (nullable = true)\n",
      " |-- BridgeHighwayDirection: string (nullable = true)\n",
      " |-- RoadRamp: string (nullable = true)\n",
      " |-- BridgeHighwaySegment: string (nullable = true)\n",
      " |-- GarageLotName: string (nullable = true)\n",
      " |-- FerryDirection: string (nullable = true)\n",
      " |-- FerryTerminalName: string (nullable = true)\n",
      " |-- Latitude: string (nullable = true)\n",
      " |-- Longitude: string (nullable = true)\n",
      " |-- Location: string (nullable = true)\n",
      "\n"
     ]
    }
   ],
   "source": [
    "nyc311DF.printSchema()"
   ]
  },
  {
   "cell_type": "markdown",
   "metadata": {
    "deletable": true,
    "editable": true
   },
   "source": [
    "## Spark SQL Exploration\n",
    "\n",
    "SparkSQL is a powerful tool allowing users a (often) familiar and (relatively) intuitive way to explore the data. In order to refer to the data within an SQL query, it needs to be stored as a view. The below query creates a temporary view named *nyc311ct*"
   ]
  },
  {
   "cell_type": "code",
   "execution_count": 6,
   "metadata": {
    "collapsed": true,
    "deletable": true,
    "editable": true
   },
   "outputs": [],
   "source": [
    "nyc311DF.createOrReplaceTempView(\"nyc311ct\")"
   ]
  },
  {
   "cell_type": "markdown",
   "metadata": {
    "deletable": true,
    "editable": true
   },
   "source": [
    "We wish to limit our data to Manhattan, let's see the exact Borough value to use"
   ]
  },
  {
   "cell_type": "code",
   "execution_count": 12,
   "metadata": {
    "collapsed": false,
    "deletable": true,
    "editable": true
   },
   "outputs": [
    {
     "name": "stdout",
     "output_type": "stream",
     "text": [
      "+-------------+\n",
      "|      Borough|\n",
      "+-------------+\n",
      "|  Unspecified|\n",
      "|       QUEENS|\n",
      "|     BROOKLYN|\n",
      "|        BRONX|\n",
      "|    MANHATTAN|\n",
      "|STATEN ISLAND|\n",
      "+-------------+\n",
      "\n"
     ]
    }
   ],
   "source": [
    "spark.sql(\"select distinct Borough from nyc311ct\").show()"
   ]
  },
  {
   "cell_type": "markdown",
   "metadata": {
    "deletable": true,
    "editable": true
   },
   "source": [
    "Let's find the complaint type with the most complaints in Manhattan.\n",
    "\n",
    "Note that we are calling the cache function, this means that when the next action is called (\"show\", \"count\", etc.) it will store the dataframe *nyc311Agr_df* in memory for much quicker retrieval in the future. However, this must be small enough to fit."
   ]
  },
  {
   "cell_type": "code",
   "execution_count": 13,
   "metadata": {
    "collapsed": false,
    "deletable": true,
    "editable": true
   },
   "outputs": [],
   "source": [
    "nyc311Agr_df = spark.sql(\"select `Complaint Type` as Complaint_Type, count(`Unique Key`) as Complaint_Count \"+\n",
    "                            \"from nyc311ct where Borough = 'MANHATTAN' \"+\n",
    "                            \"group by `Complaint Type` order by Complaint_Count desc\").cache()"
   ]
  },
  {
   "cell_type": "code",
   "execution_count": 10,
   "metadata": {
    "collapsed": false,
    "deletable": true,
    "editable": true
   },
   "outputs": [
    {
     "name": "stdout",
     "output_type": "stream",
     "text": [
      "+--------------------+---------------+\n",
      "|      Complaint_Type|Complaint_Count|\n",
      "+--------------------+---------------+\n",
      "|Noise - Street/Si...|            286|\n",
      "|  Noise - Commercial|            164|\n",
      "|     Illegal Parking|            162|\n",
      "|            Graffiti|            104|\n",
      "|             Smoking|            103|\n",
      "|      Taxi Complaint|            102|\n",
      "|Non-Residential Heat|             85|\n",
      "|  Consumer Complaint|             73|\n",
      "|   Broken Muni Meter|             68|\n",
      "|     Noise - Vehicle|             62|\n",
      "| Homeless Encampment|             59|\n",
      "|    Street Condition|             58|\n",
      "|  Food Establishment|             45|\n",
      "|      HEAT/HOT WATER|             42|\n",
      "|Fire Safety Direc...|             38|\n",
      "|Maintenance or Fa...|             35|\n",
      "|  Indoor Air Quality|             35|\n",
      "|UNSANITARY CONDITION|             31|\n",
      "|             Vending|             30|\n",
      "|    Blocked Driveway|             29|\n",
      "+--------------------+---------------+\n",
      "only showing top 20 rows\n",
      "\n"
     ]
    }
   ],
   "source": [
    "nyc311Agr_df.show()"
   ]
  },
  {
   "cell_type": "markdown",
   "metadata": {
    "deletable": true,
    "editable": true
   },
   "source": [
    "## Visualize with Brunel\n",
    "\n",
    "Convert spark dataframe to Pandas Dataframe as brunel supports Pandas Dataframe show directly"
   ]
  },
  {
   "cell_type": "code",
   "execution_count": 14,
   "metadata": {
    "collapsed": false,
    "deletable": true,
    "editable": true
   },
   "outputs": [],
   "source": [
    "nyc311Agr_df_pd = nyc311Agr_df.toPandas()"
   ]
  },
  {
   "cell_type": "markdown",
   "metadata": {
    "collapsed": true,
    "deletable": true,
    "editable": true
   },
   "source": [
    "Let's get a visual representation of the data within nyc311Agr_df. We are creating a bubble chart, where the size of the bubble represents the number of complaints. The complaint type is assigned a color, and, if large enough, the bubble is labeled, else the type displayed when hovered over."
   ]
  },
  {
   "cell_type": "code",
   "execution_count": 15,
   "metadata": {
    "collapsed": false,
    "deletable": true,
    "editable": true
   },
   "outputs": [
    {
     "data": {
      "text/html": [
       "<!--\n",
       "  ~ Copyright (c) 2015 IBM Corporation and others.\n",
       "  ~\n",
       "  ~ Licensed under the Apache License, Version 2.0 (the \"License\");\n",
       "  ~ You may not use this file except in compliance with the License.\n",
       "  ~ You may obtain a copy of the License at\n",
       "  ~\n",
       "  ~     http://www.apache.org/licenses/LICENSE-2.0\n",
       "  ~\n",
       "  ~ Unless required by applicable law or agreed to in writing, software\n",
       "  ~ distributed under the License is distributed on an \"AS IS\" BASIS,\n",
       "  ~ WITHOUT WARRANTIES OR CONDITIONS OF ANY KIND, either express or implied.\n",
       "  ~ See the License for the specific language governing permissions and\n",
       "  ~ limitations under the License.\n",
       "  -->\n",
       "\n",
       "\n",
       "<link rel=\"stylesheet\" type=\"text/css\" href=\"/dsx-jupyter/ibmdsxuser-999/1533144618520/nbextensions/brunel_ext/brunel.2.3.css\">\n",
       "<link rel=\"stylesheet\" type=\"text/css\" href=\"/dsx-jupyter/ibmdsxuser-999/1533144618520/nbextensions/brunel_ext/sumoselect.css\">\n",
       "\n",
       "<style>\n",
       "    \n",
       "</style>\n",
       "\n",
       "<div id=\"controlsidf5a8e588-95be-11e8-9ef1-bab465bf01ad\" class=\"brunel\"/>\n",
       "<svg id=\"visidf5a8d782-95be-11e8-9ef1-bab465bf01ad\" width=\"500\" height=\"400\"></svg>"
      ],
      "text/plain": [
       "<IPython.core.display.HTML object>"
      ]
     },
     "metadata": {},
     "output_type": "display_data"
    },
    {
     "data": {
      "application/javascript": [
       "/*\n",
       " * Copyright (c) 2015 IBM Corporation and others.\n",
       " *\n",
       " * Licensed under the Apache License, Version 2.0 (the \"License\");\n",
       " * You may not use this file except in compliance with the License.\n",
       " * You may obtain a copy of the License at\n",
       " *\n",
       " *     http://www.apache.org/licenses/LICENSE-2.0\n",
       " *\n",
       " * Unless required by applicable law or agreed to in writing, software\n",
       " * distributed under the License is distributed on an \"AS IS\" BASIS,\n",
       " * WITHOUT WARRANTIES OR CONDITIONS OF ANY KIND, either express or implied.\n",
       " * See the License for the specific language governing permissions and\n",
       " * limitations under the License.\n",
       " */\n",
       "\n",
       "require.config({\n",
       "    waitSeconds: 60,\n",
       "    paths: {\n",
       "        'd3': '//cdnjs.cloudflare.com/ajax/libs/d3/4.2.1/d3.min',\n",
       "        'topojson': '//cdnjs.cloudflare.com/ajax/libs/topojson/1.6.20/topojson.min',\n",
       "        'brunel' : '/dsx-jupyter/ibmdsxuser-999/1533144618520/nbextensions/brunel_ext/brunel.2.3.min',\n",
       "        'brunelControls' : '/dsx-jupyter/ibmdsxuser-999/1533144618520/nbextensions/brunel_ext/brunel.controls.2.3.min'\n",
       "    },\n",
       "    shim: {\n",
       "       'brunel' : {\n",
       "            exports: 'BrunelD3',\n",
       "            deps: ['d3', 'topojson'],\n",
       "            init: function() {\n",
       "               return {\n",
       "                 BrunelD3 : BrunelD3,\n",
       "                 BrunelData : BrunelData\n",
       "              }\n",
       "            }\n",
       "        },\n",
       "       'brunelControls' : {\n",
       "            exports: 'BrunelEventHandlers',\n",
       "            init: function() {\n",
       "               return {\n",
       "                 BrunelEventHandlers: BrunelEventHandlers,\n",
       "                 BrunelJQueryControlFactory: BrunelJQueryControlFactory\n",
       "              }\n",
       "            }\n",
       "        }\n",
       "\n",
       "    }\n",
       "\n",
       "});\n",
       "\n",
       "require([\"d3\"], function(d3) {\n",
       "    require([\"brunel\", \"brunelControls\"], function(brunel, brunelControls) {\n",
       "        function  BrunelVis(visId) {\n",
       "  \"use strict\";                                                                       // strict mode\n",
       "  var datasets = [],                                      // array of datasets for the original data\n",
       "      pre = function(d, i) { return d },                         // default pre-process does nothing\n",
       "      post = function(d, i) { return d },                       // default post-process does nothing\n",
       "      transitionTime = 200,                                        // transition time for animations\n",
       "      charts = [],                                                       // the charts in the system\n",
       "      vis = d3.select('#' + visId).attr('class', 'brunel');                     // the SVG container\n",
       "\n",
       "  BrunelD3.addDefinitions(vis);                                   // ensure standard symbols present\n",
       "\n",
       "  // Define chart #1 in the visualization //////////////////////////////////////////////////////////\n",
       "\n",
       "  charts[0] = function(parentNode, filterRows) {\n",
       "    var geom = BrunelD3.geometry(parentNode || vis.node(), 0, 0, 1, 1, 0, 0, 0, 0),\n",
       "      elements = [];                                              // array of elements in this chart\n",
       "\n",
       "    // Define groups for the chart parts ///////////////////////////////////////////////////////////\n",
       "\n",
       "    var chart =  vis.append('g').attr('class', 'chart1')\n",
       "      .attr('transform','translate(' + geom.chart_left + ',' + geom.chart_top + ')');\n",
       "    var overlay = chart.append('g').attr('class', 'element').attr('class', 'overlay');\n",
       "    var zoom = d3.zoom().scaleExtent([1/3,3]);\n",
       "    var zoomNode = overlay.append('rect').attr('class', 'overlay')\n",
       "      .attr('x', geom.inner_left).attr('y', geom.inner_top)\n",
       "      .attr('width', geom.inner_rawWidth).attr('height', geom.inner_rawHeight)\n",
       "      .style('cursor', 'default')\n",
       "      .node();\n",
       "    zoomNode.__zoom = d3.zoomIdentity;\n",
       "    chart.append('rect').attr('class', 'background').attr('width', geom.chart_right-geom.chart_left).attr('height', geom.chart_bottom-geom.chart_top);\n",
       "    var interior = chart.append('g').attr('class', 'interior zoomNone')\n",
       "      .attr('transform','translate(' + geom.inner_left + ',' + geom.inner_top + ')')\n",
       "      .attr('clip-path', 'url(#clip_visidf5a8d782-95be-11e8-9ef1-bab465bf01ad_chart1_inner)');\n",
       "    interior.append('rect').attr('class', 'inner').attr('width', geom.inner_width).attr('height', geom.inner_height);\n",
       "    var gridGroup = interior.append('g').attr('class', 'grid');\n",
       "    vis.append('clipPath').attr('id', 'clip_visidf5a8d782-95be-11e8-9ef1-bab465bf01ad_chart1_inner').append('rect')\n",
       "      .attr('x', 0).attr('y', 0)\n",
       "      .attr('width', geom.inner_rawWidth+1).attr('height', geom.inner_rawHeight+1);\n",
       "    var tree, expandState = [], collapseState = {};    // collapse state maps node IDs to true/false\n",
       "    var scale_x = d3.scaleLinear(), scale_y = d3.scaleLinear();\n",
       "    var base_scales = [scale_x, scale_y];                           // untransformed original scales\n",
       "    zoom.on('zoom', function(t, time) {\n",
       "        t = t || d3.event.transform;\n",
       "        zoomNode.__zoom = t;\n",
       "        interior.attr('class', 'interior ' + BrunelD3.zoomLabel(t.k));;\n",
       "        build(time || -1);\n",
       "    });\n",
       "\n",
       "    // Define element #1 ///////////////////////////////////////////////////////////////////////////\n",
       "\n",
       "    elements[0] = function() {\n",
       "      var original, processed,                           // data sets passed in and then transformed\n",
       "        element, data,                                 // brunel element information and brunel data\n",
       "        selection, merged;                                      // d3 selection and merged selection\n",
       "      var elementGroup = interior.append('g').attr('class', 'element1'),\n",
       "        main = elementGroup.append('g').attr('class', 'main'),\n",
       "        labels = BrunelD3.undoTransform(elementGroup.append('g').attr('class', 'labels').attr('aria-hidden', 'true'), elementGroup);\n",
       "\n",
       "      function makeData() {\n",
       "        original = datasets[0];\n",
       "        if (filterRows) original = original.retainRows(filterRows);\n",
       "        processed = pre(original, 0);\n",
       "        processed = post(processed, 0);\n",
       "        var f0 = processed.field('Complaint_Type'),\n",
       "          f1 = processed.field('Complaint_Count'),\n",
       "          f2 = processed.field('#row'),\n",
       "          f3 = processed.field('#selection');\n",
       "        var keyFunc = function(d) { return f0.value(d) };\n",
       "        data = {\n",
       "          Complaint_Type:function(d) { return f0.value(d.row) },\n",
       "          Complaint_Count:function(d) { return f1.value(d.row) },\n",
       "          $row:         function(d) { return f2.value(d.row) },\n",
       "          $selection:   function(d) { return f3.value(d.row) },\n",
       "          Complaint_Type_f:function(d) { return f0.valueFormatted(d.row) },\n",
       "          Complaint_Count_f:function(d) { return f1.valueFormatted(d.row) },\n",
       "          $row_f:       function(d) { return f2.valueFormatted(d.row) },\n",
       "          $selection_f: function(d) { return f3.valueFormatted(d.row) },\n",
       "          _split:       function(d) { return f0.value(d.row)+ '|' + f1.value(d.row) },\n",
       "          _key:         keyFunc,\n",
       "          _rows:        BrunelD3.makeRowsWithKeys(keyFunc, processed.rowCount())\n",
       "        };\n",
       "      }\n",
       "      // Aesthetic Functions\n",
       "      var scale_color = d3.scaleOrdinal()\n",
       "        .domain(['APPLIANCE', 'Animal Abuse', 'Animal in a Park', 'Asbestos', 'Beach/Pool/Sauna Complaint', 'Bike/Roller/Skate Chronic', 'Blocked Driveway', 'Bridge Condition', 'Broken Muni Meter', 'Broken Parking Meter', 'Building/Use', 'City Vehicle Placard Complaint', 'Construction', 'Consumer Complaint', 'Curb Condition', 'DOF Property - Owner Issue', 'DOF Property - Reduction Issue', 'DOOR/WINDOW', 'DPR Internal', 'Damaged Tree', 'Dead Tree', 'Derelict Vehicle', 'Dirty Conditions', 'Drinking', 'EAP Inspection - F59', 'ELECTRIC', 'ELEVATOR', 'Elevator', 'FLOORING/STAIRS', 'Fire Alarm - New System', 'Fire Alarm - Reinspection', 'Fire Safety Director - F58', 'Food Establishment', 'Food Poisoning', 'For Hire Vehicle Complaint', 'Found Property', 'GENERAL', 'General Construction/Plumbing', 'Graffiti', 'HEAT/HOT WATER', 'Highway Condition', 'Homeless Encampment', 'Illegal Fireworks', 'Illegal Parking', 'Illegal Tree Damage', 'Indoor Air Quality', 'Indoor Sewage', 'Industrial Waste', 'Maintenance or Facility', 'Noise', 'Noise - Commercial', 'Noise - Helicopter', 'Noise - House of Worship', 'Noise - Park', 'Noise - Street/Sidewalk', 'Noise - Vehicle', 'Non-Residential Heat', 'Other Enforcement', 'Overgrown Tree/Branches', 'PAINT/PLASTER', 'PLUMBING', 'Panhandling', 'Plumbing', 'Posting Advertisement', 'Public Payphone Complaint', 'Public Toilet', 'Rodent', 'Root/Sewer/Sidewalk Condition', 'SAFETY', 'SCRIE', 'School Maintenance', 'Sidewalk Condition', 'Smoking', 'Special Enforcement', 'Special Projects Inspection Team (SPIT)', 'Standing Water', 'Street Condition', 'Street Light Condition', 'Street Sign - Damaged', 'Street Sign - Dangling', 'Street Sign - Missing', 'Taxi Complaint', 'Taxi Report', 'Traffic', 'Traffic Signal Condition', 'UNSANITARY CONDITION', 'Unleashed Dog', 'Urinating in Public', 'Vending', 'Violation of Park Rules', 'WATER LEAK', 'Water System', 'X-Ray Machine/Equipment'])\n",
       "        .range([ '#00538A', '#C10020', '#F4C800', '#007D34', '#803E75', '#FF6800', \n",
       "          '#817066', '#FFB300', '#F6768E', '#93AA00', '#53377A', '#FF8E00', '#B32851', \n",
       "          '#CEA262', '#FF7A5C', '#7F180D', '#593315', '#F13A13', '#232C16']);\n",
       "      var color = function(d) { return scale_color(data.Complaint_Type(d.data)) };\n",
       "      var scale_size = d3.scaleSqrt().domain([0.3162278, 286.00003])\n",
       "        .range([ 0.001, 1]);\n",
       "      var size = function(d) { return scale_size(data.Complaint_Count(d.data)) };\n",
       "\n",
       "      // Build element from data ///////////////////////////////////////////////////////////////////\n",
       "\n",
       "      function build(transitionMillis) {\n",
       "        element = elements[0];\n",
       "        // Define bubble (hierarchy) data structures\n",
       "        var first = (!tree), graph = BrunelData.diagram_Hierarchical.makeByNestingFields(processed, 'Complaint_Count');\n",
       "        var targetNode = graph.root;\n",
       "        tree = d3.hierarchy(targetNode).sum(function(d) { return d.value });\n",
       "        BrunelD3.prune(tree, collapseState, true);\n",
       "        function nodeKey(d) { return d.data.key == null ? data._key(d.data.row) : d.data.key };\n",
       "        var pack = d3.pack().size([geom.inner_width, geom.inner_height]);\n",
       "        main.attr('class', 'diagram bubble hierarchy');\n",
       "        // Define Coordinate functions\n",
       "        function r(d) { return scale_x(d.r) - scale_x(0) };\n",
       "        function x(d) { return scale_x(d.x) };\n",
       "        function y(d) { return scale_y(d.y) };\n",
       "        var labeling  = [{\n",
       "          index: 0, method: 'box', location: ['center', 'center'], inside: true, align: 'middle', pad: 3, dy: 0.3,\n",
       "          fit: true, granularity: 2,\n",
       "          content: function(d) {\n",
       "            return d.row == null ? null : data.Complaint_Type_f(d)\n",
       "          }\n",
       "        }];\n",
       "\n",
       "        // Define selection entry operations\n",
       "        function initialState(selection) {\n",
       "          selection\n",
       "            .attr('class', 'element point filled')\n",
       "            .filter(function(d) { return d.parent })\n",
       "            .attr('x', function(d) { return scale_x(d.parent.x) })\n",
       "            .attr('y', function(d) { return scale_y(d.parent.y) })\n",
       "            .attr('r', 0)\n",
       "        }\n",
       "\n",
       "        // Define selection update operations on merged data\n",
       "        function updateState(selection) {\n",
       "          selection\n",
       "            .attr('class', function(d) { return (d.collapsed ? 'collapsed ' : '') + (d.data.children ? 'element L' + d.depth : 'leaf element point') })\n",
       "            .filter(function(d) { return d.depth })\n",
       "            .attr('class', function(d) { return (d.children ? 'element L' + d.depth : 'leaf element point') })\n",
       "            .attr('cx',function(d) { return x(d)})\n",
       "            .attr('cy',function(d) { return y(d)})\n",
       "            .attr('r',function(d) { return r(d) * 2 / 2})\n",
       "            .filter(BrunelD3.hasData)                     // following only performed for data items\n",
       "            .style('fill', color);\n",
       "        }\n",
       "\n",
       "        // Define labeling for the selection\n",
       "        function label(selection, transitionMillis) {\n",
       "          BrunelD3.label(selection, labels, transitionMillis, geom, labeling);\n",
       "\n",
       "          var tooltipLabeling  = {\n",
       "            index: -1, method: 'box', location: ['center', 'top'], inside: true, align: 'middle', pad: 0, dy: 0.7,\n",
       "            fit: true, granularity: 0,\n",
       "            content: function(d) {\n",
       "              return d.row == null ? null : '<span class=\"field\">' + data.Complaint_Type_f(d) + '</span>'\n",
       "            }\n",
       "          };\n",
       "          BrunelD3.addTooltip(selection, tooltipLabeling, geom);\n",
       "        }\n",
       "        // Create selections, set the initial state and transition updates\n",
       "        selection = main.selectAll('.element').data(pack(tree).descendants(), nodeKey);\n",
       "        var added = selection.enter().append('circle');\n",
       "        merged = selection.merge(added);\n",
       "        initialState(added);\n",
       "        selection.filter(BrunelD3.hasData)\n",
       "          .classed('selected', BrunelD3.isSelected(data))\n",
       "          .filter(BrunelD3.isSelected(data)).raise();\n",
       "        updateState(BrunelD3.transition(merged, transitionMillis));\n",
       "        label(merged, transitionMillis);\n",
       "\n",
       "        BrunelD3.transition(selection.exit(), transitionMillis/3)\n",
       "          .style('opacity', 0.5).each( function() {\n",
       "            this.remove(); BrunelD3.removeLabels(this); \n",
       "        });\n",
       "        merged                                                     // attach handlers to the element\n",
       "          .on('dblclick.collapse', function(d) {if (d.data.children) {collapseState[d.data.key] = !collapseState[d.data.key]; charts[0].build(500)}  });\n",
       "      }\n",
       "\n",
       "      return {\n",
       "        data:           function() { return processed },\n",
       "        original:       function() { return original },\n",
       "        internal:       function() { return data },\n",
       "        selection:      function() { return merged },\n",
       "        makeData:       makeData,\n",
       "        build:          build,\n",
       "        chart:          function() { return charts[0] },\n",
       "        group:          function() { return elementGroup },\n",
       "        fields: {\n",
       "          key:          ['Complaint_Type'],\n",
       "          color:        ['Complaint_Type'],\n",
       "          size:         ['Complaint_Count']\n",
       "        }\n",
       "      };\n",
       "    }();\n",
       "\n",
       "    function build(time, noData) {\n",
       "      var first = elements[0].data() == null;\n",
       "      if (first) time = 0;                                           // no transition for first call\n",
       "      if ((first || time > -1) && !noData) {\n",
       "        elements[0].makeData();\n",
       "      }\n",
       "      elements[0].build(time);\n",
       "    }\n",
       "\n",
       "    // Expose the following components of the chart\n",
       "    return {\n",
       "      elements : elements,\n",
       "      interior : interior,\n",
       "      zoom: function(params, time) {\n",
       "          if (params) zoom.on('zoom').call(zoomNode, params, time);\n",
       "          return d3.zoomTransform(zoomNode);\n",
       "      },\n",
       "      build : build\n",
       "    };\n",
       "    }();\n",
       "\n",
       "  function setData(rowData, i) { datasets[i||0] = BrunelD3.makeData(rowData) }\n",
       "  function updateAll(time) { charts.forEach(function(x) {x.build(time || 0)}) }\n",
       "  function buildAll() {\n",
       "    for (var i=0;i<arguments.length;i++) setData(arguments[i], i);\n",
       "    updateAll(transitionTime);\n",
       "  }\n",
       "\n",
       "  return {\n",
       "    dataPreProcess:     function(f) { if (f) pre = f; return pre },\n",
       "    dataPostProcess:    function(f) { if (f) post = f; return post },\n",
       "    data:               function(d,i) { if (d) setData(d,i); return datasets[i||0] },\n",
       "    visId:              visId,\n",
       "    build:              buildAll,\n",
       "    rebuild:            updateAll,\n",
       "    charts:             charts\n",
       "  }\n",
       "}\n",
       "\n",
       "// Data Tables /////////////////////////////////////////////////////////////////////////////////////\n",
       "\n",
       "var table1 = {\n",
       "   summarized: false,\n",
       "   names: ['Complaint_Type', 'Complaint_Count'], \n",
       "   options: ['string', 'numeric'], \n",
       "   rows: [['Noise - Street/Sidewalk', 286], ['Noise - Commercial', 164], ['Illegal Parking', 162],\n",
       "  ['Graffiti', 104], ['Smoking', 103], ['Taxi Complaint', 102], ['Non-Residential Heat', 85],\n",
       "  ['Consumer Complaint', 73], ['Broken Muni Meter', 68], ['Noise - Vehicle', 62],\n",
       "  ['Homeless Encampment', 59], ['Street Condition', 58], ['Food Establishment', 45],\n",
       "  ['HEAT/HOT WATER', 42], ['Fire Safety Director - F58', 38], ['Maintenance or Facility', 35],\n",
       "  ['Indoor Air Quality', 35], ['UNSANITARY CONDITION', 31], ['Vending', 30],\n",
       "  ['Blocked Driveway', 29], ['SCRIE', 25], ['Taxi Report', 25], ['EAP Inspection - F59', 24],\n",
       "  ['Animal Abuse', 24], ['PAINT/PLASTER', 21], ['Traffic', 20], ['Noise - Park', 19],\n",
       "  ['DOOR/WINDOW', 16], ['Sidewalk Condition', 16], ['Damaged Tree', 15], ['PLUMBING', 14],\n",
       "  ['Dead Tree', 14], ['Animal in a Park', 14], ['Food Poisoning', 13], ['Building/Use', 12],\n",
       "  ['FLOORING/STAIRS', 12], ['For Hire Vehicle Complaint', 11], ['Noise - Helicopter', 10],\n",
       "  ['Derelict Vehicle', 10], ['Street Sign - Damaged', 10], ['Violation of Park Rules', 9],\n",
       "  ['ELECTRIC', 8], ['GENERAL', 7], ['WATER LEAK', 7], ['Highway Condition', 7],\n",
       "  ['Street Light Condition', 7], ['Drinking', 7], ['Rodent', 6], ['Street Sign - Missing', 5],\n",
       "  ['Illegal Tree Damage', 5], ['General Construction/Plumbing', 5], ['Panhandling', 5],\n",
       "  ['DPR Internal', 5], ['Standing Water', 4], ['SAFETY', 4], ['Traffic Signal Condition', 4],\n",
       "  ['Street Sign - Dangling', 3], ['Indoor Sewage', 3], ['Industrial Waste', 3], ['APPLIANCE', 2],\n",
       "  ['Fire Alarm - Reinspection', 2], ['Elevator', 2], ['Public Payphone Complaint', 2],\n",
       "  ['Dirty Conditions', 2], ['Overgrown Tree/Branches', 2], ['Broken Parking Meter', 2],\n",
       "  ['Bike/Roller/Skate Chronic', 2], ['Posting Advertisement', 2], ['Bridge Condition', 2],\n",
       "  ['City Vehicle Placard Complaint', 2], ['Special Projects Inspection Team (SPIT)', 2],\n",
       "  ['School Maintenance', 2], ['Fire Alarm - New System', 1], ['DOF Property - Reduction Issue', 1],\n",
       "  ['Noise - House of Worship', 1], ['Beach/Pool/Sauna Complaint', 1], ['Asbestos', 1],\n",
       "  ['Construction', 1], ['Plumbing', 1], ['Root/Sewer/Sidewalk Condition', 1],\n",
       "  ['Illegal Fireworks', 1], ['Public Toilet', 1], ['Water System', 1], ['ELEVATOR', 1],\n",
       "  ['X-Ray Machine/Equipment', 1], ['Other Enforcement', 1], ['Found Property', 1], ['Noise', 1],\n",
       "  ['DOF Property - Owner Issue', 1], ['Special Enforcement', 1], ['Unleashed Dog', 1],\n",
       "  ['Curb Condition', 1], ['Urinating in Public', 1]]\n",
       "};\n",
       "\n",
       "// Call Code to Build the system ///////////////////////////////////////////////////////////////////\n",
       "\n",
       "var v  = new BrunelVis('visidf5a8d782-95be-11e8-9ef1-bab465bf01ad');\n",
       "v.build(table1);\n",
       "\n",
       "    });\n",
       "});"
      ],
      "text/plain": [
       "<IPython.core.display.Javascript object>"
      ]
     },
     "execution_count": 15,
     "metadata": {},
     "output_type": "execute_result"
    }
   ],
   "source": [
    "%brunel data('nyc311Agr_df_pd') bubble size(Complaint_Count) color(Complaint_Type) label(Complaint_Type) legends(none) tooltip(Complaint_Type)"
   ]
  },
  {
   "cell_type": "markdown",
   "metadata": {
    "deletable": true,
    "editable": true
   },
   "source": [
    "## Complaints by Zip code\n",
    "How does the number of complaints vary by Zip code? Let's remove any data points where a zip code hasn't been provided and filter to those that are of type 'HEAT/HOT WATER'.\n",
    "\n",
    "Note: If just exploring the data, where you do not intend to re-use the resulting dataframe, you can just use Spark SQL with the function \"show\" without assigning it to a variable. "
   ]
  },
  {
   "cell_type": "code",
   "execution_count": 16,
   "metadata": {
    "collapsed": false,
    "deletable": true,
    "editable": true
   },
   "outputs": [
    {
     "name": "stdout",
     "output_type": "stream",
     "text": [
      "+-----+-------------+\n",
      "|  Zip|ZipHeatingCnt|\n",
      "+-----+-------------+\n",
      "|11236|            2|\n",
      "|11106|            2|\n",
      "|10452|            1|\n",
      "|11237|            1|\n",
      "|11379|            1|\n",
      "|11249|            3|\n",
      "|10012|            1|\n",
      "|11427|            1|\n",
      "|11239|            1|\n",
      "|11213|            6|\n",
      "|10457|            1|\n",
      "|11226|            6|\n",
      "|11224|            1|\n",
      "|10011|            1|\n",
      "|10473|            1|\n",
      "|11229|            1|\n",
      "|11230|            1|\n",
      "|10014|            1|\n",
      "|10463|            1|\n",
      "|10462|            1|\n",
      "+-----+-------------+\n",
      "only showing top 20 rows\n",
      "\n"
     ]
    }
   ],
   "source": [
    "spark.sql(\"select `Incident Zip` as Zip, count(*) as ZipHeatingCnt \" +\n",
    "          \"from nyc311ct \" +\n",
    "          \"where `Complaint Type` = 'HEAT/HOT WATER' and `Incident Zip` <> '' group by `Incident Zip`\").show()"
   ]
  },
  {
   "cell_type": "markdown",
   "metadata": {
    "deletable": true,
    "editable": true
   },
   "source": [
    "Similarly, if you wish to use the result of these queries for future queries but do not require the data as a dataframe, you can create a table directly from the query as follows\""
   ]
  },
  {
   "cell_type": "code",
   "execution_count": 17,
   "metadata": {
    "collapsed": true,
    "deletable": true,
    "editable": true
   },
   "outputs": [],
   "source": [
    "spark.sql(\"select `Incident Zip` as Zip, count(*) as ZipHeatingCnt \" + \n",
    "          \"from nyc311ct \" +\n",
    "          \"where `Complaint Type` = 'HEAT/HOT WATER' and `Incident Zip` <> '' group by `Incident Zip`\").createOrReplaceTempView(\"zipHeatingCnt\")"
   ]
  },
  {
   "cell_type": "markdown",
   "metadata": {
    "deletable": true,
    "editable": true
   },
   "source": [
    "Additional SQL functions are available such as \"max\", \"min\", \"cast\", \"split\", \"limit\", etc. Some will be used below:"
   ]
  },
  {
   "cell_type": "code",
   "execution_count": 18,
   "metadata": {
    "collapsed": false,
    "deletable": true,
    "editable": true
   },
   "outputs": [
    {
     "name": "stdout",
     "output_type": "stream",
     "text": [
      "+---+---+------------------+\n",
      "|max|min|               avg|\n",
      "+---+---+------------------+\n",
      "|  7|  1|2.0135135135135136|\n",
      "+---+---+------------------+\n",
      "\n"
     ]
    }
   ],
   "source": [
    "spark.sql(\"select max(ZipHeatingCnt) as max, min(ZipHeatingCnt) as min, avg(ZipHeatingCnt) as avg from zipHeatingCnt\").show()"
   ]
  },
  {
   "cell_type": "markdown",
   "metadata": {
    "deletable": true,
    "editable": true
   },
   "source": [
    "## Complaints by Zip code and date\n",
    "Let's see which date and zip codes had the most complaints. The 'Created Date' field includes a time, therefore we are using the \"split\" function to just use the date. We are also limiting the data to only heat/hot water complaints."
   ]
  },
  {
   "cell_type": "code",
   "execution_count": 19,
   "metadata": {
    "collapsed": false,
    "deletable": true,
    "editable": true
   },
   "outputs": [
    {
     "name": "stdout",
     "output_type": "stream",
     "text": [
      "+-------------+------------+---------------------+\n",
      "|Incident_Date|Incident_Zip|HeatingComplaintCount|\n",
      "+-------------+------------+---------------------+\n",
      "|   10/27/2015|       11212|                    2|\n",
      "|   11/09/2015|       11212|                    2|\n",
      "|   10/19/2015|       10456|                    2|\n",
      "|   11/08/2015|       10456|                    2|\n",
      "|   10/24/2015|       11209|                    2|\n",
      "|   10/17/2015|       10467|                    1|\n",
      "|   10/19/2015|       11211|                    1|\n",
      "|   10/19/2015|       11237|                    1|\n",
      "|   10/10/2015|       10451|                    1|\n",
      "|   10/19/2015|       10011|                    1|\n",
      "|   10/19/2015|       11373|                    1|\n",
      "|   10/06/2015|       11207|                    1|\n",
      "|   12/22/2015|       11213|                    1|\n",
      "|   10/18/2015|       10453|                    1|\n",
      "|   11/09/2015|       10021|                    1|\n",
      "|   10/19/2015|       10024|                    1|\n",
      "|   11/08/2015|       10454|                    1|\n",
      "|   10/21/2015|       10458|                    1|\n",
      "|   10/17/2015|       10028|                    1|\n",
      "|   10/17/2015|       11105|                    1|\n",
      "+-------------+------------+---------------------+\n",
      "only showing top 20 rows\n",
      "\n"
     ]
    }
   ],
   "source": [
    "spark.sql(\"select split(`Created Date`, ' ')[0] as Incident_Date, `Incident Zip` as Incident_Zip, \"+\n",
    "          \"count(`Unique Key`) as HeatingComplaintCount \"+\n",
    "          \"from nyc311ct where `Complaint Type` = 'HEAT/HOT WATER' and `Incident Zip` <> '' \"+\n",
    "          \"group by split(`Created Date`, ' ')[0], `Incident Zip` order by HeatingComplaintCount desc limit 50\").show()"
   ]
  },
  {
   "cell_type": "markdown",
   "metadata": {
    "deletable": true,
    "editable": true
   },
   "source": [
    "It looks like Jan 8th and Feb 16th were cold days!\n",
    "\n",
    "## Complaints by address\n",
    "\n",
    "Let's explore complaints by address:"
   ]
  },
  {
   "cell_type": "code",
   "execution_count": 20,
   "metadata": {
    "collapsed": false,
    "deletable": true,
    "editable": true
   },
   "outputs": [],
   "source": [
    "addressNycAgr = spark.sql(\"select `Incident Address` as IncidentAddress, count(`Unique Key`) as IncidentCount \"+\n",
    "                              \"from nyc311ct \"+\n",
    "                              \"where `Complaint Type` = 'HEAT/HOT WATER' and `Incident Zip` <> '' group by `Incident Address`\")"
   ]
  },
  {
   "cell_type": "code",
   "execution_count": 21,
   "metadata": {
    "collapsed": true,
    "deletable": true,
    "editable": true
   },
   "outputs": [],
   "source": [
    "addressNycAgr.createOrReplaceTempView(\"nycaddHeat\")"
   ]
  },
  {
   "cell_type": "markdown",
   "metadata": {
    "deletable": true,
    "editable": true
   },
   "source": [
    "Count how many addresses have complained about heating / hot water"
   ]
  },
  {
   "cell_type": "code",
   "execution_count": 22,
   "metadata": {
    "collapsed": false,
    "deletable": true,
    "editable": true
   },
   "outputs": [
    {
     "data": {
      "text/plain": [
       "145"
      ]
     },
     "execution_count": 22,
     "metadata": {},
     "output_type": "execute_result"
    }
   ],
   "source": [
    "addressNycAgr.count()"
   ]
  },
  {
   "cell_type": "markdown",
   "metadata": {
    "deletable": true,
    "editable": true
   },
   "source": [
    "Let's investigate the distribution of the data; we tally up the number of addresses for each incident count."
   ]
  },
  {
   "cell_type": "code",
   "execution_count": 23,
   "metadata": {
    "collapsed": true,
    "deletable": true,
    "editable": true
   },
   "outputs": [],
   "source": [
    "adrHeatDistr = spark.sql(\"select IncidentCount, count(*) as AddressDistr from nycaddHeat group by IncidentCount order by IncidentCount limit 100\")"
   ]
  },
  {
   "cell_type": "code",
   "execution_count": 24,
   "metadata": {
    "collapsed": true,
    "deletable": true,
    "editable": true
   },
   "outputs": [],
   "source": [
    "adrHeatDistr.createOrReplaceTempView(\"nycaddHeatDistr\")"
   ]
  },
  {
   "cell_type": "code",
   "execution_count": 25,
   "metadata": {
    "collapsed": false,
    "deletable": true,
    "editable": true
   },
   "outputs": [
    {
     "name": "stdout",
     "output_type": "stream",
     "text": [
      "+-------------+------------+\n",
      "|IncidentCount|AddressDistr|\n",
      "+-------------+------------+\n",
      "|            1|         141|\n",
      "|            2|           4|\n",
      "+-------------+------------+\n",
      "\n"
     ]
    }
   ],
   "source": [
    "adrHeatDistr.show()"
   ]
  },
  {
   "cell_type": "markdown",
   "metadata": {
    "deletable": true,
    "editable": true
   },
   "source": [
    "Let's use Brunel again to get a visualization in the hope it gives up a quick understanding of the data."
   ]
  },
  {
   "cell_type": "code",
   "execution_count": 26,
   "metadata": {
    "collapsed": false,
    "deletable": true,
    "editable": true
   },
   "outputs": [
    {
     "data": {
      "text/html": [
       "<!--\n",
       "  ~ Copyright (c) 2015 IBM Corporation and others.\n",
       "  ~\n",
       "  ~ Licensed under the Apache License, Version 2.0 (the \"License\");\n",
       "  ~ You may not use this file except in compliance with the License.\n",
       "  ~ You may obtain a copy of the License at\n",
       "  ~\n",
       "  ~     http://www.apache.org/licenses/LICENSE-2.0\n",
       "  ~\n",
       "  ~ Unless required by applicable law or agreed to in writing, software\n",
       "  ~ distributed under the License is distributed on an \"AS IS\" BASIS,\n",
       "  ~ WITHOUT WARRANTIES OR CONDITIONS OF ANY KIND, either express or implied.\n",
       "  ~ See the License for the specific language governing permissions and\n",
       "  ~ limitations under the License.\n",
       "  -->\n",
       "\n",
       "\n",
       "<link rel=\"stylesheet\" type=\"text/css\" href=\"/dsx-jupyter/ibmdsxuser-999/1533144618520/nbextensions/brunel_ext/brunel.2.3.css\">\n",
       "<link rel=\"stylesheet\" type=\"text/css\" href=\"/dsx-jupyter/ibmdsxuser-999/1533144618520/nbextensions/brunel_ext/sumoselect.css\">\n",
       "\n",
       "<style>\n",
       "    \n",
       "</style>\n",
       "\n",
       "<div id=\"controlsid37022d00-95bf-11e8-9ef1-bab465bf01ad\" class=\"brunel\"/>\n",
       "<svg id=\"visid3702295e-95bf-11e8-9ef1-bab465bf01ad\" width=\"500\" height=\"400\"></svg>"
      ],
      "text/plain": [
       "<IPython.core.display.HTML object>"
      ]
     },
     "metadata": {},
     "output_type": "display_data"
    },
    {
     "data": {
      "application/javascript": [
       "/*\n",
       " * Copyright (c) 2015 IBM Corporation and others.\n",
       " *\n",
       " * Licensed under the Apache License, Version 2.0 (the \"License\");\n",
       " * You may not use this file except in compliance with the License.\n",
       " * You may obtain a copy of the License at\n",
       " *\n",
       " *     http://www.apache.org/licenses/LICENSE-2.0\n",
       " *\n",
       " * Unless required by applicable law or agreed to in writing, software\n",
       " * distributed under the License is distributed on an \"AS IS\" BASIS,\n",
       " * WITHOUT WARRANTIES OR CONDITIONS OF ANY KIND, either express or implied.\n",
       " * See the License for the specific language governing permissions and\n",
       " * limitations under the License.\n",
       " */\n",
       "\n",
       "require.config({\n",
       "    waitSeconds: 60,\n",
       "    paths: {\n",
       "        'd3': '//cdnjs.cloudflare.com/ajax/libs/d3/4.2.1/d3.min',\n",
       "        'topojson': '//cdnjs.cloudflare.com/ajax/libs/topojson/1.6.20/topojson.min',\n",
       "        'brunel' : '/dsx-jupyter/ibmdsxuser-999/1533144618520/nbextensions/brunel_ext/brunel.2.3.min',\n",
       "        'brunelControls' : '/dsx-jupyter/ibmdsxuser-999/1533144618520/nbextensions/brunel_ext/brunel.controls.2.3.min'\n",
       "    },\n",
       "    shim: {\n",
       "       'brunel' : {\n",
       "            exports: 'BrunelD3',\n",
       "            deps: ['d3', 'topojson'],\n",
       "            init: function() {\n",
       "               return {\n",
       "                 BrunelD3 : BrunelD3,\n",
       "                 BrunelData : BrunelData\n",
       "              }\n",
       "            }\n",
       "        },\n",
       "       'brunelControls' : {\n",
       "            exports: 'BrunelEventHandlers',\n",
       "            init: function() {\n",
       "               return {\n",
       "                 BrunelEventHandlers: BrunelEventHandlers,\n",
       "                 BrunelJQueryControlFactory: BrunelJQueryControlFactory\n",
       "              }\n",
       "            }\n",
       "        }\n",
       "\n",
       "    }\n",
       "\n",
       "});\n",
       "\n",
       "require([\"d3\"], function(d3) {\n",
       "    require([\"brunel\", \"brunelControls\"], function(brunel, brunelControls) {\n",
       "        function  BrunelVis(visId) {\n",
       "  \"use strict\";                                                                       // strict mode\n",
       "  var datasets = [],                                      // array of datasets for the original data\n",
       "      pre = function(d, i) { return d },                         // default pre-process does nothing\n",
       "      post = function(d, i) { return d },                       // default post-process does nothing\n",
       "      transitionTime = 200,                                        // transition time for animations\n",
       "      charts = [],                                                       // the charts in the system\n",
       "      vis = d3.select('#' + visId).attr('class', 'brunel');                     // the SVG container\n",
       "\n",
       "  BrunelD3.addDefinitions(vis);                                   // ensure standard symbols present\n",
       "\n",
       "  // Define chart #1 in the visualization //////////////////////////////////////////////////////////\n",
       "\n",
       "  charts[0] = function(parentNode, filterRows) {\n",
       "    var geom = BrunelD3.geometry(parentNode || vis.node(), 0, 0, 1, 1, 5, 43, 37, 13),\n",
       "      elements = [];                                              // array of elements in this chart\n",
       "\n",
       "    // Define groups for the chart parts ///////////////////////////////////////////////////////////\n",
       "\n",
       "    var chart =  vis.append('g').attr('class', 'chart1')\n",
       "      .attr('transform','translate(' + geom.chart_left + ',' + geom.chart_top + ')');\n",
       "    var overlay = chart.append('g').attr('class', 'element').attr('class', 'overlay');\n",
       "    var zoom = d3.zoom().scaleExtent([1/3,3]);\n",
       "    var zoomNode = overlay.append('rect').attr('class', 'overlay')\n",
       "      .attr('x', geom.inner_left).attr('y', geom.inner_top)\n",
       "      .attr('width', geom.inner_rawWidth).attr('height', geom.inner_rawHeight)\n",
       "      .style('cursor', 'move').call(zoom)\n",
       "      .node();\n",
       "    zoomNode.__zoom = d3.zoomIdentity;\n",
       "    chart.append('rect').attr('class', 'background').attr('width', geom.chart_right-geom.chart_left).attr('height', geom.chart_bottom-geom.chart_top);\n",
       "    var interior = chart.append('g').attr('class', 'interior zoomNone')\n",
       "      .attr('transform','translate(' + geom.inner_left + ',' + geom.inner_top + ')')\n",
       "      .attr('clip-path', 'url(#clip_visid3702295e-95bf-11e8-9ef1-bab465bf01ad_chart1_inner)');\n",
       "    interior.append('rect').attr('class', 'inner').attr('width', geom.inner_width).attr('height', geom.inner_height);\n",
       "    var gridGroup = interior.append('g').attr('class', 'grid');\n",
       "    var axes = chart.append('g').attr('class', 'axis')\n",
       "      .attr('transform','translate(' + geom.inner_left + ',' + geom.inner_top + ')');\n",
       "    vis.append('clipPath').attr('id', 'clip_visid3702295e-95bf-11e8-9ef1-bab465bf01ad_chart1_inner').append('rect')\n",
       "      .attr('x', 0).attr('y', 0)\n",
       "      .attr('width', geom.inner_rawWidth+1).attr('height', geom.inner_rawHeight+1);\n",
       "\n",
       "    // Scales //////////////////////////////////////////////////////////////////////////////////////\n",
       "\n",
       "    var scale_x = d3.scaleLinear().domain([0.8, 2.2000001])\n",
       "      .range([0, geom.inner_width]);\n",
       "    var scale_inner = d3.scaleLinear().domain([0,1])\n",
       "      .range([-0.5, 0.5]);\n",
       "    var scale_y = d3.scaleLinear().domain([0, 160.00002])\n",
       "      .range([geom.inner_height, 0]);\n",
       "    var base_scales = [scale_x, scale_y];                           // untransformed original scales\n",
       "\n",
       "    // Axes ////////////////////////////////////////////////////////////////////////////////////////\n",
       "\n",
       "    axes.append('g').attr('class', 'x axis')\n",
       "      .attr('transform','translate(0,' + geom.inner_rawHeight + ')')\n",
       "      .attr('clip-path', 'url(#clip_visid3702295e-95bf-11e8-9ef1-bab465bf01ad_chart1_haxis)');\n",
       "    vis.append('clipPath').attr('id', 'clip_visid3702295e-95bf-11e8-9ef1-bab465bf01ad_chart1_haxis').append('polyline')\n",
       "      .attr('points', '-1,-1000, -1,-1 -5,5, -1000,5, -100,1000, 10000,1000 10000,-1000');\n",
       "    axes.select('g.axis.x').append('text').attr('class', 'title').text('Incident Count').style('text-anchor', 'middle')\n",
       "      .attr('x',geom.inner_rawWidth/2)\n",
       "      .attr('y', geom.inner_bottom - 2.0).attr('dy','-0.27em');\n",
       "    axes.append('g').attr('class', 'y axis')\n",
       "      .attr('clip-path', 'url(#clip_visid3702295e-95bf-11e8-9ef1-bab465bf01ad_chart1_vaxis)');\n",
       "    vis.append('clipPath').attr('id', 'clip_visid3702295e-95bf-11e8-9ef1-bab465bf01ad_chart1_vaxis').append('polyline')\n",
       "      .attr('points', '-1000,-10000, 10000,-10000, 10000,' + (geom.inner_rawHeight+1) + ', -1,' + (geom.inner_rawHeight+1) + ', -1,' + (geom.inner_rawHeight+5) + ', -1000,' + (geom.inner_rawHeight+5) );\n",
       "    axes.select('g.axis.y').append('text').attr('class', 'title').text('Address Distr').style('text-anchor', 'middle')\n",
       "      .attr('x',-geom.inner_rawHeight/2)\n",
       "      .attr('y', 4-geom.inner_left).attr('dy', '0.7em').attr('transform', 'rotate(270)');\n",
       "\n",
       "    var axis_bottom = d3.axisBottom(scale_x).ticks(Math.min(10, Math.round(geom.inner_width / 33.0)));\n",
       "    var axis_left = d3.axisLeft(scale_y).ticks(Math.min(10, Math.round(geom.inner_width / 20)));\n",
       "\n",
       "    function buildAxes(time) {\n",
       "      var axis_x = axes.select('g.axis.x');\n",
       "      BrunelD3.transition(axis_x, time).call(axis_bottom.scale(scale_x));\n",
       "      var axis_y = axes.select('g.axis.y');\n",
       "      BrunelD3.transition(axis_y, time).call(axis_left.scale(scale_y));\n",
       "    }\n",
       "    zoom.on('zoom', function(t, time) {\n",
       "        t = t ||BrunelD3.restrictZoom(d3.event.transform, geom, this);\n",
       "        scale_x = t.rescaleX(base_scales[0]);\n",
       "        scale_y = t.rescaleY(base_scales[1]);\n",
       "        zoomNode.__zoom = t;\n",
       "        interior.attr('class', 'interior ' + BrunelD3.zoomLabel(t.k));;\n",
       "        build(time || -1);\n",
       "    });\n",
       "\n",
       "    // Define element #1 ///////////////////////////////////////////////////////////////////////////\n",
       "\n",
       "    elements[0] = function() {\n",
       "      var original, processed,                           // data sets passed in and then transformed\n",
       "        element, data,                                 // brunel element information and brunel data\n",
       "        selection, merged;                                      // d3 selection and merged selection\n",
       "      var elementGroup = interior.append('g').attr('class', 'element1'),\n",
       "        main = elementGroup.append('g').attr('class', 'main'),\n",
       "        labels = BrunelD3.undoTransform(elementGroup.append('g').attr('class', 'labels').attr('aria-hidden', 'true'), elementGroup);\n",
       "\n",
       "      function makeData() {\n",
       "        original = datasets[0];\n",
       "        if (filterRows) original = original.retainRows(filterRows);\n",
       "        processed = pre(original, 0);\n",
       "        processed = post(processed, 0);\n",
       "        var f0 = processed.field('IncidentCount'),\n",
       "          f1 = processed.field('AddressDistr'),\n",
       "          f2 = processed.field('#row'),\n",
       "          f3 = processed.field('#selection');\n",
       "        var keyFunc = function(d) { return f2.value(d) };\n",
       "        data = {\n",
       "          IncidentCount:function(d) { return f0.value(d.row) },\n",
       "          AddressDistr: function(d) { return f1.value(d.row) },\n",
       "          $row:         function(d) { return f2.value(d.row) },\n",
       "          $selection:   function(d) { return f3.value(d.row) },\n",
       "          IncidentCount_f:function(d) { return f0.valueFormatted(d.row) },\n",
       "          AddressDistr_f:function(d) { return f1.valueFormatted(d.row) },\n",
       "          $row_f:       function(d) { return f2.valueFormatted(d.row) },\n",
       "          $selection_f: function(d) { return f3.valueFormatted(d.row) },\n",
       "          _split:       function(d) { return 'ALL' },\n",
       "          _key:         keyFunc,\n",
       "          _rows:        BrunelD3.makeRowsWithKeys(keyFunc, processed.rowCount())\n",
       "        };\n",
       "      }\n",
       "\n",
       "      // Build element from data ///////////////////////////////////////////////////////////////////\n",
       "\n",
       "      function build(transitionMillis) {\n",
       "        element = elements[0];\n",
       "        var w = Math.abs( scale_x(scale_x.domain()[0] + 1.0) - scale_x.range()[0] );\n",
       "        var x = function(d) { return scale_x(data.IncidentCount(d))};\n",
       "        var h = Math.abs( scale_y(scale_y.domain()[0] + 137.0) - scale_y.range()[0] );\n",
       "        var y = function(d) { return scale_y(data.AddressDistr(d))};\n",
       "\n",
       "        // Define selection entry operations\n",
       "        function initialState(selection) {\n",
       "          selection\n",
       "            .attr('class', 'element point filled')\n",
       "            .style('pointer-events', 'none')\n",
       "        }\n",
       "\n",
       "        // Define selection update operations on merged data\n",
       "        function updateState(selection) {\n",
       "          selection\n",
       "            .attr('cx',function(d) { return scale_x(data.IncidentCount(d))})\n",
       "            .attr('cy',function(d) { return scale_y(data.AddressDistr(d))})\n",
       "            .attr('r',Math.min(Math.abs( scale_x(scale_x.domain()[0] + 1.0) - scale_x.range()[0] ), Math.abs( scale_y(scale_y.domain()[0] + 137.0) - scale_y.range()[0] )) / 2);\n",
       "        }\n",
       "\n",
       "        // Define labeling for the selection\n",
       "        function label(selection, transitionMillis) {\n",
       "        }\n",
       "        // Create selections, set the initial state and transition updates\n",
       "        selection = main.selectAll('.element').data(data._rows, function(d) { return d.key });\n",
       "        var added = selection.enter().append('circle');\n",
       "        merged = selection.merge(added);\n",
       "        initialState(added);\n",
       "        selection.filter(BrunelD3.hasData)\n",
       "          .classed('selected', BrunelD3.isSelected(data))\n",
       "          .filter(BrunelD3.isSelected(data)).raise();\n",
       "        updateState(BrunelD3.transition(merged, transitionMillis));\n",
       "\n",
       "        BrunelD3.transition(selection.exit(), transitionMillis/3)\n",
       "          .style('opacity', 0.5).each( function() {\n",
       "            this.remove(); BrunelD3.removeLabels(this); \n",
       "        });\n",
       "      }\n",
       "\n",
       "      return {\n",
       "        data:           function() { return processed },\n",
       "        original:       function() { return original },\n",
       "        internal:       function() { return data },\n",
       "        selection:      function() { return merged },\n",
       "        makeData:       makeData,\n",
       "        build:          build,\n",
       "        chart:          function() { return charts[0] },\n",
       "        group:          function() { return elementGroup },\n",
       "        fields: {\n",
       "          x:            ['IncidentCount'],\n",
       "          y:            ['AddressDistr'],\n",
       "          key:          ['#row']\n",
       "        }\n",
       "      };\n",
       "    }();\n",
       "\n",
       "    function build(time, noData) {\n",
       "      var first = elements[0].data() == null;\n",
       "      if (first) time = 0;                                           // no transition for first call\n",
       "      buildAxes(time);\n",
       "      if ((first || time > -1) && !noData) {\n",
       "        elements[0].makeData();\n",
       "      }\n",
       "      elements[0].build(time);\n",
       "    }\n",
       "\n",
       "    // Expose the following components of the chart\n",
       "    return {\n",
       "      elements : elements,\n",
       "      interior : interior,\n",
       "      scales: {x:scale_x, y:scale_y},\n",
       "      zoom: function(params, time) {\n",
       "          if (params) zoom.on('zoom').call(zoomNode, params, time);\n",
       "          return d3.zoomTransform(zoomNode);\n",
       "      },\n",
       "      build : build\n",
       "    };\n",
       "    }();\n",
       "\n",
       "  function setData(rowData, i) { datasets[i||0] = BrunelD3.makeData(rowData) }\n",
       "  function updateAll(time) { charts.forEach(function(x) {x.build(time || 0)}) }\n",
       "  function buildAll() {\n",
       "    for (var i=0;i<arguments.length;i++) setData(arguments[i], i);\n",
       "    updateAll(transitionTime);\n",
       "  }\n",
       "\n",
       "  return {\n",
       "    dataPreProcess:     function(f) { if (f) pre = f; return pre },\n",
       "    dataPostProcess:    function(f) { if (f) post = f; return post },\n",
       "    data:               function(d,i) { if (d) setData(d,i); return datasets[i||0] },\n",
       "    visId:              visId,\n",
       "    build:              buildAll,\n",
       "    rebuild:            updateAll,\n",
       "    charts:             charts\n",
       "  }\n",
       "}\n",
       "\n",
       "// Data Tables /////////////////////////////////////////////////////////////////////////////////////\n",
       "\n",
       "var table1 = {\n",
       "   summarized: false,\n",
       "   names: ['IncidentCount', 'AddressDistr'], \n",
       "   options: ['numeric', 'numeric'], \n",
       "   rows: [[1, 141], [2, 4]]\n",
       "};\n",
       "\n",
       "// Call Code to Build the system ///////////////////////////////////////////////////////////////////\n",
       "\n",
       "var v  = new BrunelVis('visid3702295e-95bf-11e8-9ef1-bab465bf01ad');\n",
       "v.build(table1);\n",
       "\n",
       "    });\n",
       "});"
      ],
      "text/plain": [
       "<IPython.core.display.Javascript object>"
      ]
     },
     "execution_count": 26,
     "metadata": {},
     "output_type": "execute_result"
    }
   ],
   "source": [
    "adrHeatDistr_pd = adrHeatDistr.toPandas()\n",
    "%brunel data('adrHeatDistr_pd') x(IncidentCount) y(AddressDistr)"
   ]
  },
  {
   "cell_type": "markdown",
   "metadata": {
    "collapsed": true,
    "deletable": true,
    "editable": true
   },
   "source": [
    "The query took the first 100 incident counts but it looks like we have a long tail distribution; the bulk of the addresses only have 1 or a few complaints. The number of addresses that complained tends to decrease as the number of incidents counted increases.\n",
    "\n",
    "Let's have a quick look at the top number of complaints and how many addresses made that many:"
   ]
  },
  {
   "cell_type": "code",
   "execution_count": 27,
   "metadata": {
    "collapsed": false,
    "deletable": true,
    "editable": true
   },
   "outputs": [
    {
     "name": "stdout",
     "output_type": "stream",
     "text": [
      "+-------------+------------+\n",
      "|IncidentCount|AddressDistr|\n",
      "+-------------+------------+\n",
      "|            2|           4|\n",
      "|            1|         141|\n",
      "+-------------+------------+\n",
      "\n"
     ]
    }
   ],
   "source": [
    "spark.sql(\"select * from nycaddHeatDistr order by IncidentCount desc limit 5\").show()"
   ]
  },
  {
   "cell_type": "markdown",
   "metadata": {
    "deletable": true,
    "editable": true
   },
   "source": [
    "As expected, only one or two addresses can be found making each of number of complaints"
   ]
  },
  {
   "cell_type": "markdown",
   "metadata": {
    "deletable": true,
    "editable": true
   },
   "source": [
    "## Combining with PLUTO Data\n",
    "\n",
    "We are now going to join the NYC 311 Complaints data with another data set, *PLUTO*. This data is also publically available with NYC Open Data. It is available in a CSV format and contains land use and geographic data, including more than seventy fields. If we can join these two datasets, we might be able to get a better understanding of attributes that contribute to complaints being made."
   ]
  },
  {
   "cell_type": "markdown",
   "metadata": {
    "deletable": true,
    "editable": true
   },
   "source": [
    "We now read similar to before:"
   ]
  },
  {
   "cell_type": "code",
   "execution_count": 28,
   "metadata": {
    "collapsed": true,
    "deletable": true,
    "editable": true
   },
   "outputs": [],
   "source": [
    "plutoDF=spark.read.csv('../datasets/MN.csv',header=True)"
   ]
  },
  {
   "cell_type": "markdown",
   "metadata": {
    "deletable": true,
    "editable": true
   },
   "source": [
    "Let's confirm it worked by printing the schema"
   ]
  },
  {
   "cell_type": "code",
   "execution_count": 29,
   "metadata": {
    "collapsed": false,
    "deletable": true,
    "editable": true
   },
   "outputs": [
    {
     "name": "stdout",
     "output_type": "stream",
     "text": [
      "root\n",
      " |-- Borough: string (nullable = true)\n",
      " |-- Block: string (nullable = true)\n",
      " |-- Lot: string (nullable = true)\n",
      " |-- CD: string (nullable = true)\n",
      " |-- CT2010: string (nullable = true)\n",
      " |-- CB2010: string (nullable = true)\n",
      " |-- SchoolDist: string (nullable = true)\n",
      " |-- Council: string (nullable = true)\n",
      " |-- ZipCode: string (nullable = true)\n",
      " |-- FireComp: string (nullable = true)\n",
      " |-- PolicePrct: string (nullable = true)\n",
      " |-- Address: string (nullable = true)\n",
      " |-- ZoneDist1: string (nullable = true)\n",
      " |-- ZoneDist2: string (nullable = true)\n",
      " |-- ZoneDist3: string (nullable = true)\n",
      " |-- ZoneDist4: string (nullable = true)\n",
      " |-- Overlay1: string (nullable = true)\n",
      " |-- Overlay2: string (nullable = true)\n",
      " |-- SPDist1: string (nullable = true)\n",
      " |-- SPDist2: string (nullable = true)\n",
      " |-- LtdHeight: string (nullable = true)\n",
      " |-- AllZoning1: string (nullable = true)\n",
      " |-- AllZoning2: string (nullable = true)\n",
      " |-- SplitZone: string (nullable = true)\n",
      " |-- BldgClass: string (nullable = true)\n",
      " |-- LandUse: string (nullable = true)\n",
      " |-- Easements: string (nullable = true)\n",
      " |-- OwnerType: string (nullable = true)\n",
      " |-- OwnerName: string (nullable = true)\n",
      " |-- LotArea: string (nullable = true)\n",
      " |-- BldgArea: string (nullable = true)\n",
      " |-- ComArea: string (nullable = true)\n",
      " |-- ResArea: string (nullable = true)\n",
      " |-- OfficeArea: string (nullable = true)\n",
      " |-- RetailArea: string (nullable = true)\n",
      " |-- GarageArea: string (nullable = true)\n",
      " |-- StrgeArea: string (nullable = true)\n",
      " |-- FactryArea: string (nullable = true)\n",
      " |-- OtherArea: string (nullable = true)\n",
      " |-- AreaSource: string (nullable = true)\n",
      " |-- NumBldgs: string (nullable = true)\n",
      " |-- NumFloors: string (nullable = true)\n",
      " |-- UnitsRes: string (nullable = true)\n",
      " |-- UnitsTotal: string (nullable = true)\n",
      " |-- LotFront: string (nullable = true)\n",
      " |-- LotDepth: string (nullable = true)\n",
      " |-- BldgFront: string (nullable = true)\n",
      " |-- BldgDepth: string (nullable = true)\n",
      " |-- Ext: string (nullable = true)\n",
      " |-- ProxCode: string (nullable = true)\n",
      " |-- IrrLotCode: string (nullable = true)\n",
      " |-- LotType: string (nullable = true)\n",
      " |-- BsmtCode: string (nullable = true)\n",
      " |-- AssessLand: string (nullable = true)\n",
      " |-- AssessTot: string (nullable = true)\n",
      " |-- ExemptLand: string (nullable = true)\n",
      " |-- ExemptTot: string (nullable = true)\n",
      " |-- YearBuilt: string (nullable = true)\n",
      " |-- BuiltCode: string (nullable = true)\n",
      " |-- YearAlter1: string (nullable = true)\n",
      " |-- YearAlter2: string (nullable = true)\n",
      " |-- HistDist: string (nullable = true)\n",
      " |-- Landmark: string (nullable = true)\n",
      " |-- BuiltFAR: string (nullable = true)\n",
      " |-- ResidFAR: string (nullable = true)\n",
      " |-- CommFAR: string (nullable = true)\n",
      " |-- FacilFAR: string (nullable = true)\n",
      " |-- BoroCode: string (nullable = true)\n",
      " |-- BBL: string (nullable = true)\n",
      " |-- CondoNo: string (nullable = true)\n",
      " |-- Tract2010: string (nullable = true)\n",
      " |-- XCoord: string (nullable = true)\n",
      " |-- YCoord: string (nullable = true)\n",
      " |-- ZoneMap: string (nullable = true)\n",
      " |-- ZMCode: string (nullable = true)\n",
      " |-- Sanborn: string (nullable = true)\n",
      " |-- TaxMap: string (nullable = true)\n",
      " |-- EDesigNum: string (nullable = true)\n",
      " |-- APPBBL: string (nullable = true)\n",
      " |-- APPDate: string (nullable = true)\n",
      " |-- PLUTOMapID: string (nullable = true)\n",
      " |-- Version: string (nullable = true)\n",
      "\n"
     ]
    }
   ],
   "source": [
    "plutoDF.printSchema()"
   ]
  },
  {
   "cell_type": "markdown",
   "metadata": {
    "deletable": true,
    "editable": true
   },
   "source": [
    "We create a temporary view to be able to run SQL queries"
   ]
  },
  {
   "cell_type": "code",
   "execution_count": 30,
   "metadata": {
    "collapsed": true,
    "deletable": true,
    "editable": true
   },
   "outputs": [],
   "source": [
    "plutoDF.createOrReplaceTempView(\"plutot\")"
   ]
  },
  {
   "cell_type": "markdown",
   "metadata": {
    "deletable": true,
    "editable": true
   },
   "source": [
    "## Data Transformation & Feature Engineering\n",
    "\n",
    "Sometimes a feature needs to be engineered to make it more valuable, whether for visual purposes or modeling purposes. This can be done in many ways, including aggregation, bucketing, combining multiple features.\n",
    "\n",
    "Rather than investigate the data at an address level, we are going to aggregate to zipcode. We are also only selecting a subset of these fields to focus our investigation. The features we are extracting are Borough, ZipCode and the average for: Building Area, Building Age (by subtracting the build year from 2016), and X & Y co-ordinates."
   ]
  },
  {
   "cell_type": "code",
   "execution_count": 31,
   "metadata": {
    "collapsed": false,
    "deletable": true,
    "editable": true
   },
   "outputs": [],
   "source": [
    "plutoSubdf = spark.sql(\"select Borough, ZipCode, count(*) as BldgCount, \"+\n",
    "                           \"round(Avg(BldgArea)) as avgBldgArea, round(Avg(2015 - YearBuilt)) as avgBldgAge, \"+\n",
    "                           \"round(Avg(XCoord)) as avgXcrd, round(Avg(YCoord)) as avgYcrd \"+\n",
    "                           \"from plutot group by Borough, ZipCode\")"
   ]
  },
  {
   "cell_type": "code",
   "execution_count": 32,
   "metadata": {
    "collapsed": true,
    "deletable": true,
    "editable": true
   },
   "outputs": [],
   "source": [
    "plutoSubdf.createOrReplaceTempView(\"plutosubt\")"
   ]
  },
  {
   "cell_type": "markdown",
   "metadata": {
    "deletable": true,
    "editable": true
   },
   "source": [
    "## Merge the Data\n",
    "We are now joining the NYC 311 complaints data with the PLUTO data where the two Zip codes match"
   ]
  },
  {
   "cell_type": "code",
   "execution_count": 33,
   "metadata": {
    "collapsed": true,
    "deletable": true,
    "editable": true
   },
   "outputs": [],
   "source": [
    "mergedDf = spark.sql(\"select * from zipHeatingCnt, plutosubt where Zip = ZipCode\").cache()"
   ]
  },
  {
   "cell_type": "code",
   "execution_count": 36,
   "metadata": {
    "collapsed": true,
    "deletable": true,
    "editable": true
   },
   "outputs": [],
   "source": [
    "mergedDf.createOrReplaceTempView(\"modelt\")"
   ]
  },
  {
   "cell_type": "code",
   "execution_count": 37,
   "metadata": {
    "collapsed": false,
    "deletable": true,
    "editable": true
   },
   "outputs": [
    {
     "data": {
      "text/plain": [
       "25"
      ]
     },
     "execution_count": 37,
     "metadata": {},
     "output_type": "execute_result"
    }
   ],
   "source": [
    "mergedDf.count()"
   ]
  },
  {
   "cell_type": "markdown",
   "metadata": {
    "deletable": true,
    "editable": true
   },
   "source": [
    "We have only 46 Zip codes in Manhattan that made complaints in 2015, let's have a look at some of the attributes we have calculated"
   ]
  },
  {
   "cell_type": "code",
   "execution_count": 38,
   "metadata": {
    "collapsed": false,
    "deletable": true,
    "editable": true,
    "scrolled": true
   },
   "outputs": [
    {
     "name": "stdout",
     "output_type": "stream",
     "text": [
      "+-----+-------------+-------+-------+---------+-----------+----------+---------+--------+\n",
      "|  Zip|ZipHeatingCnt|Borough|ZipCode|BldgCount|avgBldgArea|avgBldgAge|  avgXcrd| avgYcrd|\n",
      "+-----+-------------+-------+-------+---------+-----------+----------+---------+--------+\n",
      "|10012|            1|     MN|  10012|     1168|    23483.0|     143.0| 984755.0|203548.0|\n",
      "|10011|            1|     MN|  10011|     2080|    26692.0|     145.0| 984425.0|209172.0|\n",
      "|10014|            1|     MN|  10014|     1959|    17391.0|     148.0| 982940.0|206799.0|\n",
      "|10463|            1|     MN|  10463|      220|    15722.0|     204.0|1008961.0|258548.0|\n",
      "|10003|            3|     MN|  10003|     1881|    28940.0|     139.0| 987540.0|205715.0|\n",
      "|10040|            1|     MN|  10040|      429|    40602.0|     188.0|1003705.0|251912.0|\n",
      "|10022|            3|     MN|  10022|     1101|    82191.0|     189.0| 993309.0|215562.0|\n",
      "|10065|            1|     MN|  10065|     1052|    42394.0|     127.0| 993913.0|217993.0|\n",
      "|10035|            3|     MN|  10035|     1514|    13521.0|     443.0|1001455.0|231364.0|\n",
      "|10028|            1|     MN|  10028|     1207|    31134.0|     103.0| 997215.0|222054.0|\n",
      "|10033|            3|     MN|  10033|      782|    30288.0|     229.0|1002319.0|248810.0|\n",
      "|10031|            2|     MN|  10031|     1613|    17127.0|     162.0| 998628.0|240039.0|\n",
      "|10027|            1|     MN|  10027|     2258|    18990.0|     266.0| 998178.0|234378.0|\n",
      "|10037|            1|     MN|  10037|      381|    35681.0|     303.0|1000951.0|235105.0|\n",
      "|10024|            2|     MN|  10024|     1760|    27681.0|     125.0| 991048.0|225769.0|\n",
      "|10026|            1|     MN|  10026|     1032|    17527.0|     226.0| 997294.0|231873.0|\n",
      "|10025|            1|     MN|  10025|     1593|    46590.0|     158.0| 993282.0|230084.0|\n",
      "|10029|            2|     MN|  10029|     1617|    28255.0|     340.0| 999846.0|228126.0|\n",
      "|10013|            1|     MN|  10013|     1643|    31299.0|     190.0| 983408.0|201464.0|\n",
      "|10019|            1|     MN|  10019|     1100|    97725.0|     206.0| 988181.0|217985.0|\n",
      "|10032|            5|     MN|  10032|     1018|    33123.0|     204.0|1000616.0|244331.0|\n",
      "|10034|            1|     MN|  10034|      560|    31610.0|     316.0|1006120.0|255102.0|\n",
      "|10075|            2|     MN|  10075|      701|    31987.0|     127.0| 996129.0|221149.0|\n",
      "|10016|            1|     MN|  10016|     1409|    51857.0|     199.0| 989921.0|210948.0|\n",
      "|10021|            2|     MN|  10021|     1185|    37667.0|     122.0| 995354.0|219835.0|\n",
      "+-----+-------------+-------+-------+---------+-----------+----------+---------+--------+\n",
      "\n"
     ]
    }
   ],
   "source": [
    "spark.sql(\"select * from modelt\").show(100)"
   ]
  },
  {
   "cell_type": "markdown",
   "metadata": {
    "deletable": true,
    "editable": true
   },
   "source": [
    "Let's select the desired target (ZipHeatingCnt) and features (Borough, BldgCount, avgBldAge, avgBldgArea, avgXCrd, avgYCrd) to a dataframe ready to be saved for future use."
   ]
  },
  {
   "cell_type": "code",
   "execution_count": 39,
   "metadata": {
    "collapsed": true,
    "deletable": true,
    "editable": true
   },
   "outputs": [],
   "source": [
    "mdlDataDF = spark.sql(\"select Zip, ZipHeatingCnt, Borough, BldgCount, avgBldgAge, avgBldgArea, avgXcrd, avgYCrd from modelt\")"
   ]
  },
  {
   "cell_type": "markdown",
   "metadata": {
    "deletable": true,
    "editable": true
   },
   "source": [
    "## Exploring Complaint Density\n",
    "Rather than look at complaint value as an absolute value, we are calculating and exploring Complaint Density by dividing the number of complaints by the number of buildings in that zipcode.\n",
    "\n",
    "We are also bucking the ages to see how the age of the building relates to the number of complaints."
   ]
  },
  {
   "cell_type": "code",
   "execution_count": 40,
   "metadata": {
    "collapsed": false,
    "deletable": true,
    "editable": true
   },
   "outputs": [],
   "source": [
    "complaintDensityZipCode = spark.sql(\"select Borough, Zip, round((ZipHeatingCnt/BldgCount), 1) as ComplaintDensity, \"+\n",
    "                                        \"round(avgBldgArea) as AvgBldgArea, round(avgBldgAge) as AvgBldgAge, \"+\n",
    "                                        \"round(avgXcrd) as AvgXCoord, round(avgYcrd) as AvgYCoord from modelt\").cache()"
   ]
  },
  {
   "cell_type": "markdown",
   "metadata": {
    "deletable": true,
    "editable": true
   },
   "source": [
    "Note: The \"false\" states that the results should not be truncated"
   ]
  },
  {
   "cell_type": "code",
   "execution_count": 41,
   "metadata": {
    "collapsed": false,
    "deletable": true,
    "editable": true
   },
   "outputs": [
    {
     "name": "stdout",
     "output_type": "stream",
     "text": [
      "+-------+-----+----------------+-----------+----------+---------+---------+\n",
      "|Borough|  Zip|ComplaintDensity|AvgBldgArea|AvgBldgAge|AvgXCoord|AvgYCoord|\n",
      "+-------+-----+----------------+-----------+----------+---------+---------+\n",
      "|     MN|10012|             0.0|    23483.0|     143.0| 984755.0| 203548.0|\n",
      "|     MN|10011|             0.0|    26692.0|     145.0| 984425.0| 209172.0|\n",
      "|     MN|10014|             0.0|    17391.0|     148.0| 982940.0| 206799.0|\n",
      "|     MN|10463|             0.0|    15722.0|     204.0|1008961.0| 258548.0|\n",
      "|     MN|10003|             0.0|    28940.0|     139.0| 987540.0| 205715.0|\n",
      "|     MN|10040|             0.0|    40602.0|     188.0|1003705.0| 251912.0|\n",
      "|     MN|10022|             0.0|    82191.0|     189.0| 993309.0| 215562.0|\n",
      "|     MN|10065|             0.0|    42394.0|     127.0| 993913.0| 217993.0|\n",
      "|     MN|10035|             0.0|    13521.0|     443.0|1001455.0| 231364.0|\n",
      "|     MN|10028|             0.0|    31134.0|     103.0| 997215.0| 222054.0|\n",
      "|     MN|10033|             0.0|    30288.0|     229.0|1002319.0| 248810.0|\n",
      "|     MN|10031|             0.0|    17127.0|     162.0| 998628.0| 240039.0|\n",
      "|     MN|10027|             0.0|    18990.0|     266.0| 998178.0| 234378.0|\n",
      "|     MN|10037|             0.0|    35681.0|     303.0|1000951.0| 235105.0|\n",
      "|     MN|10024|             0.0|    27681.0|     125.0| 991048.0| 225769.0|\n",
      "|     MN|10026|             0.0|    17527.0|     226.0| 997294.0| 231873.0|\n",
      "|     MN|10025|             0.0|    46590.0|     158.0| 993282.0| 230084.0|\n",
      "|     MN|10029|             0.0|    28255.0|     340.0| 999846.0| 228126.0|\n",
      "|     MN|10013|             0.0|    31299.0|     190.0| 983408.0| 201464.0|\n",
      "|     MN|10019|             0.0|    97725.0|     206.0| 988181.0| 217985.0|\n",
      "+-------+-----+----------------+-----------+----------+---------+---------+\n",
      "only showing top 20 rows\n",
      "\n"
     ]
    }
   ],
   "source": [
    "complaintDensityZipCode.show()"
   ]
  },
  {
   "cell_type": "code",
   "execution_count": 42,
   "metadata": {
    "collapsed": true,
    "deletable": true,
    "editable": true
   },
   "outputs": [],
   "source": [
    "complaintDensityZipCode.createOrReplaceTempView(\"cdzt\")"
   ]
  },
  {
   "cell_type": "markdown",
   "metadata": {
    "deletable": true,
    "editable": true
   },
   "source": [
    "We are once again utilizing Spark SQL's rich functionality and creating case statements to assign the zip code into either either *\\<100* if the building is less than 100 years old, *100\\<age\\<200* if between 100 and 200 and *200+* if greater than 200.\n",
    "\n",
    "Similarly, the complaint density has been classified as *Low* if less than 0.1, H*igh* if between 0.1 and 1 and *Very High* if greater than 1."
   ]
  },
  {
   "cell_type": "code",
   "execution_count": 43,
   "metadata": {
    "collapsed": true,
    "deletable": true,
    "editable": true
   },
   "outputs": [],
   "source": [
    "cdztop = spark.sql(\"select (case when AvgBldgAge < 100 then '<100' when AvgBldgAge >= 100 and AvgBldgAge < 200 then '100<age<200' else '>200' end) \"+\n",
    "                           \"as AvgBldgAgeCat, \"+\n",
    "                       \"(case when ComplaintDensity < 0.1 then 'Low' when ComplaintDensity >= 0.1 and ComplaintDensity < 1 then 'High' else 'Very High' end) \"+\n",
    "                           \"as ComplaintDensityLevel \"+\n",
    "                       \"from cdzt\")"
   ]
  },
  {
   "cell_type": "markdown",
   "metadata": {
    "deletable": true,
    "editable": true
   },
   "source": [
    "Let's use the Chord graphic to visually interpret any connections between age and complaint density"
   ]
  },
  {
   "cell_type": "code",
   "execution_count": 44,
   "metadata": {
    "collapsed": false,
    "deletable": true,
    "editable": true
   },
   "outputs": [
    {
     "data": {
      "text/html": [
       "<!--\n",
       "  ~ Copyright (c) 2015 IBM Corporation and others.\n",
       "  ~\n",
       "  ~ Licensed under the Apache License, Version 2.0 (the \"License\");\n",
       "  ~ You may not use this file except in compliance with the License.\n",
       "  ~ You may obtain a copy of the License at\n",
       "  ~\n",
       "  ~     http://www.apache.org/licenses/LICENSE-2.0\n",
       "  ~\n",
       "  ~ Unless required by applicable law or agreed to in writing, software\n",
       "  ~ distributed under the License is distributed on an \"AS IS\" BASIS,\n",
       "  ~ WITHOUT WARRANTIES OR CONDITIONS OF ANY KIND, either express or implied.\n",
       "  ~ See the License for the specific language governing permissions and\n",
       "  ~ limitations under the License.\n",
       "  -->\n",
       "\n",
       "\n",
       "<link rel=\"stylesheet\" type=\"text/css\" href=\"/dsx-jupyter/ibmdsxuser-999/1533144618520/nbextensions/brunel_ext/brunel.2.3.css\">\n",
       "<link rel=\"stylesheet\" type=\"text/css\" href=\"/dsx-jupyter/ibmdsxuser-999/1533144618520/nbextensions/brunel_ext/sumoselect.css\">\n",
       "\n",
       "<style>\n",
       "    \n",
       "</style>\n",
       "\n",
       "<div id=\"controlsid1d09bb1a-95c0-11e8-9ef1-bab465bf01ad\" class=\"brunel\"/>\n",
       "<svg id=\"visid1d09b5b6-95c0-11e8-9ef1-bab465bf01ad\" width=\"500\" height=\"400\"></svg>"
      ],
      "text/plain": [
       "<IPython.core.display.HTML object>"
      ]
     },
     "metadata": {},
     "output_type": "display_data"
    },
    {
     "data": {
      "application/javascript": [
       "/*\n",
       " * Copyright (c) 2015 IBM Corporation and others.\n",
       " *\n",
       " * Licensed under the Apache License, Version 2.0 (the \"License\");\n",
       " * You may not use this file except in compliance with the License.\n",
       " * You may obtain a copy of the License at\n",
       " *\n",
       " *     http://www.apache.org/licenses/LICENSE-2.0\n",
       " *\n",
       " * Unless required by applicable law or agreed to in writing, software\n",
       " * distributed under the License is distributed on an \"AS IS\" BASIS,\n",
       " * WITHOUT WARRANTIES OR CONDITIONS OF ANY KIND, either express or implied.\n",
       " * See the License for the specific language governing permissions and\n",
       " * limitations under the License.\n",
       " */\n",
       "\n",
       "require.config({\n",
       "    waitSeconds: 60,\n",
       "    paths: {\n",
       "        'd3': '//cdnjs.cloudflare.com/ajax/libs/d3/4.2.1/d3.min',\n",
       "        'topojson': '//cdnjs.cloudflare.com/ajax/libs/topojson/1.6.20/topojson.min',\n",
       "        'brunel' : '/dsx-jupyter/ibmdsxuser-999/1533144618520/nbextensions/brunel_ext/brunel.2.3.min',\n",
       "        'brunelControls' : '/dsx-jupyter/ibmdsxuser-999/1533144618520/nbextensions/brunel_ext/brunel.controls.2.3.min'\n",
       "    },\n",
       "    shim: {\n",
       "       'brunel' : {\n",
       "            exports: 'BrunelD3',\n",
       "            deps: ['d3', 'topojson'],\n",
       "            init: function() {\n",
       "               return {\n",
       "                 BrunelD3 : BrunelD3,\n",
       "                 BrunelData : BrunelData\n",
       "              }\n",
       "            }\n",
       "        },\n",
       "       'brunelControls' : {\n",
       "            exports: 'BrunelEventHandlers',\n",
       "            init: function() {\n",
       "               return {\n",
       "                 BrunelEventHandlers: BrunelEventHandlers,\n",
       "                 BrunelJQueryControlFactory: BrunelJQueryControlFactory\n",
       "              }\n",
       "            }\n",
       "        }\n",
       "\n",
       "    }\n",
       "\n",
       "});\n",
       "\n",
       "require([\"d3\"], function(d3) {\n",
       "    require([\"brunel\", \"brunelControls\"], function(brunel, brunelControls) {\n",
       "        function  BrunelVis(visId) {\n",
       "  \"use strict\";                                                                       // strict mode\n",
       "  var datasets = [],                                      // array of datasets for the original data\n",
       "      pre = function(d, i) { return d },                         // default pre-process does nothing\n",
       "      post = function(d, i) { return d },                       // default post-process does nothing\n",
       "      transitionTime = 200,                                        // transition time for animations\n",
       "      charts = [],                                                       // the charts in the system\n",
       "      vis = d3.select('#' + visId).attr('class', 'brunel');                     // the SVG container\n",
       "\n",
       "  BrunelD3.addDefinitions(vis);                                   // ensure standard symbols present\n",
       "\n",
       "  // Define chart #1 in the visualization //////////////////////////////////////////////////////////\n",
       "\n",
       "  charts[0] = function(parentNode, filterRows) {\n",
       "    var geom = BrunelD3.geometry(parentNode || vis.node(), 0, 0, 1, 1, 0, 0, 0, 60),\n",
       "      elements = [];                                              // array of elements in this chart\n",
       "\n",
       "    // Define groups for the chart parts ///////////////////////////////////////////////////////////\n",
       "\n",
       "    var chart =  vis.append('g').attr('class', 'chart1')\n",
       "      .attr('transform','translate(' + geom.chart_left + ',' + geom.chart_top + ')');\n",
       "    var overlay = chart.append('g').attr('class', 'element').attr('class', 'overlay');\n",
       "    var zoom = d3.zoom().scaleExtent([1/3,3]);\n",
       "    var zoomNode = overlay.append('rect').attr('class', 'overlay')\n",
       "      .attr('x', geom.inner_left).attr('y', geom.inner_top)\n",
       "      .attr('width', geom.inner_rawWidth).attr('height', geom.inner_rawHeight)\n",
       "      .style('cursor', 'default')\n",
       "      .node();\n",
       "    zoomNode.__zoom = d3.zoomIdentity;\n",
       "    chart.append('rect').attr('class', 'background').attr('width', geom.chart_right-geom.chart_left).attr('height', geom.chart_bottom-geom.chart_top);\n",
       "    var interior = chart.append('g').attr('class', 'interior zoomNone')\n",
       "      .attr('transform','translate(' + geom.inner_left + ',' + geom.inner_top + ')')\n",
       "      .attr('clip-path', 'url(#clip_visid1d09b5b6-95c0-11e8-9ef1-bab465bf01ad_chart1_inner)');\n",
       "    interior.append('rect').attr('class', 'inner').attr('width', geom.inner_width).attr('height', geom.inner_height);\n",
       "    var gridGroup = interior.append('g').attr('class', 'grid');\n",
       "    var legends = chart.append('g').attr('class', 'legend')\n",
       "      .attr('transform','translate(' + (geom.chart_right-geom.chart_left - 3) + ',' + 0 + ')');\n",
       "    vis.append('clipPath').attr('id', 'clip_visid1d09b5b6-95c0-11e8-9ef1-bab465bf01ad_chart1_inner').append('rect')\n",
       "      .attr('x', 0).attr('y', 0)\n",
       "      .attr('width', geom.inner_rawWidth+1).attr('height', geom.inner_rawHeight+1);\n",
       "    var scale_x = d3.scaleLinear(), scale_y = d3.scaleLinear();\n",
       "    var base_scales = [scale_x, scale_y];                           // untransformed original scales\n",
       "    zoom.on('zoom', function(t, time) {\n",
       "        t = t || d3.event.transform;\n",
       "        zoomNode.__zoom = t;\n",
       "        interior.attr('class', 'interior ' + BrunelD3.zoomLabel(t.k));;\n",
       "        build(time || -1);\n",
       "    });\n",
       "\n",
       "    // Define element #1 ///////////////////////////////////////////////////////////////////////////\n",
       "\n",
       "    elements[0] = function() {\n",
       "      var original, processed,                           // data sets passed in and then transformed\n",
       "        element, data,                                 // brunel element information and brunel data\n",
       "        selection, merged;                                      // d3 selection and merged selection\n",
       "      var elementGroup = interior.append('g').attr('class', 'element1')\n",
       "        .attr('transform','translate(' + geom.inner_width/2 + ',' + geom.inner_height/2 + ')'),\n",
       "        main = elementGroup.append('g').attr('class', 'main'),\n",
       "        labels = BrunelD3.undoTransform(elementGroup.append('g').attr('class', 'labels').attr('aria-hidden', 'true'), elementGroup),\n",
       "        diagramExtras = elementGroup.append('g').attr('class', 'extras');\n",
       "\n",
       "      function makeData() {\n",
       "        original = datasets[0];\n",
       "        if (filterRows) original = original.retainRows(filterRows);\n",
       "        processed = pre(original, 0)\n",
       "          .summarize('#count=#count:sum; AvgBldgAgeCat=AvgBldgAgeCat:base; ComplaintDensityLevel=ComplaintDensityLevel');\n",
       "        processed = post(processed, 0);\n",
       "        var f0 = processed.field('AvgBldgAgeCat'),\n",
       "          f1 = processed.field('ComplaintDensityLevel'),\n",
       "          f2 = processed.field('#count'),\n",
       "          f3 = processed.field('#row'),\n",
       "          f4 = processed.field('#selection');\n",
       "        var keyFunc = function(d) { return f0.value(d)+ '|' + f1.value(d) };\n",
       "        data = {\n",
       "          AvgBldgAgeCat:function(d) { return f0.value(d.row) },\n",
       "          ComplaintDensityLevel:function(d) { return f1.value(d.row) },\n",
       "          $count:       function(d) { return f2.value(d.row) },\n",
       "          $row:         function(d) { return f3.value(d.row) },\n",
       "          $selection:   function(d) { return f4.value(d.row) },\n",
       "          AvgBldgAgeCat_f:function(d) { return f0.valueFormatted(d.row) },\n",
       "          ComplaintDensityLevel_f:function(d) { return f1.valueFormatted(d.row) },\n",
       "          $count_f:     function(d) { return f2.valueFormatted(d.row) },\n",
       "          $row_f:       function(d) { return f3.valueFormatted(d.row) },\n",
       "          $selection_f: function(d) { return f4.valueFormatted(d.row) },\n",
       "          _split:       function(d) { return f2.value(d.row) },\n",
       "          _key:         keyFunc,\n",
       "          _rows:        BrunelD3.makeRowsWithKeys(keyFunc, processed.rowCount())\n",
       "        };\n",
       "      }\n",
       "      // Aesthetic Functions\n",
       "      var scale_color = d3.scaleLinear().domain([10, 11.25, 12.5, 13.75, 15])\n",
       "        .interpolate(d3.interpolateHcl)\n",
       "        .range([ '#f1eef6', '#bdc9e1', '#74a9cf', '#2b8cbe', '#045a8d']);\n",
       "      var color = function(d) { return scale_color(data.$count(d)) };\n",
       "      legends._legend = legends._legend || { title: ['Count'], \n",
       "        ticks: [15, 14, 13, 12, 11, 10]};\n",
       "      legends._legend.color = scale_color;\n",
       "\n",
       "      // Build element from data ///////////////////////////////////////////////////////////////////\n",
       "\n",
       "      function build(transitionMillis) {\n",
       "        element = elements[0];\n",
       "        // Define chord data structures using Brunel's enhanced chord diagram builder\n",
       "        var chords = BrunelData.diagram_Chord.make(processed,'AvgBldgAgeCat', \n",
       "            'ComplaintDensityLevel');\n",
       "        var arc_width = 9.6;                                                // width of exterior arc\n",
       "        function keyFunction(d) { return d.source.index + '|' + d.target.index };//  special key function for the edges\n",
       "        var R = scale_x(geom.inner_radius)-scale_x(0), svgTrans = 'translate(' + scale_x(0) + ',' + scale_y(0) + ')';\n",
       "        main.attr('class', 'diagram chord');\n",
       "\n",
       "        // Define selection entry operations\n",
       "        function initialState(selection) {\n",
       "          selection\n",
       "            .attr('class', 'element edge filled')\n",
       "        }\n",
       "\n",
       "        // Define selection update operations on merged data\n",
       "        function updateState(selection) {\n",
       "          selection\n",
       "            .attr('d', d3.ribbon().radius(R-arc_width))\n",
       "            .attr('class', 'element edge')\n",
       "            .attr('transform', svgTrans)\n",
       "            .filter(BrunelD3.hasData)                     // following only performed for data items\n",
       "            .style('fill', color)\n",
       "\n",
       "          // Add in the arcs on the outside for the groups\n",
       "          diagramExtras.attr('class', 'diagram chord arcs');\n",
       "          var arcGroup = diagramExtras.selectAll('g').data(chords.groups),\n",
       "            addedArcGroups = arcGroup.enter().append('g'),\n",
       "            arcPath = d3.arc().innerRadius(R - arc_width).outerRadius(R);\n",
       "          addedArcGroups.append('path').attr('class', 'box')\n",
       "            .attr('id', function(d, i) { return 'arc' + i; });\n",
       "          addedArcGroups.append('text').attr('class', 'label')\n",
       "            .attr('dy', arc_width*0.72).attr('class', 'label')\n",
       "            .append('textPath').attr('xlink:href', function(d, i) { return '#arc' + i });\n",
       "          var mergedArcGroups = addedArcGroups.merge(arcGroup);\n",
       "          BrunelD3.tween(mergedArcGroups, transitionMillis, function(d, i) { \n",
       "              var group = d3.select(this);\n",
       "              group.attr('transform', svgTrans);\n",
       "              return function() {\n",
       "                  group.select('path').attr('d', arcPath(d));\n",
       "                  group.select('textPath').text(d.name);\n",
       "                  BrunelD3.centerInWedge(group.select('text'), arc_width);\n",
       "              }\n",
       "          });\n",
       "\n",
       "          BrunelD3.transition(arcGroup.exit(), transitionMillis/3)\n",
       "            .style('opacity', 0.5).each( function() {\n",
       "              this.remove(); BrunelD3.removeLabels(this); \n",
       "          });\n",
       "          ;\n",
       "        }\n",
       "\n",
       "        // Define labeling for the selection\n",
       "        function label(selection, transitionMillis) {\n",
       "\n",
       "          var tooltipLabeling  = {\n",
       "            index: -1, method: 'poly', location: ['center', 'center'], inside: true, align: 'middle', pad: 0, dy: 0.3,\n",
       "            fit: true, granularity: 0,\n",
       "            content: function(d) {\n",
       "              return d.row == null ? null : '<span class=\"title\">Avg Bldg Age Cat: </span>'\n",
       "\t\t\t+ '<span class=\"field\">' + data.AvgBldgAgeCat_f(d) + '</span>'\n",
       "\t\t\t+ '<br/>'\n",
       "\t\t\t+ '<span class=\"title\">Complaint Density Level: </span>'\n",
       "\t\t\t+ '<span class=\"field\">' + data.ComplaintDensityLevel_f(d) + '</span>'\n",
       "\t\t\t+ '<br/>'\n",
       "\t\t\t+ '<span class=\"title\">Count: </span>'\n",
       "\t\t\t+ '<span class=\"field\">' + data.$count_f(d) + '</span>'\n",
       "            }\n",
       "          };\n",
       "          BrunelD3.addTooltip(selection, tooltipLabeling, geom);\n",
       "        }\n",
       "        // Create selections, set the initial state and transition updates\n",
       "        selection = main.selectAll('.element').data(chords.chords, function(d) { return d.source.index + '|' + d.target.index });\n",
       "        var added = selection.enter().append('path');\n",
       "        merged = selection.merge(added);\n",
       "        initialState(added);\n",
       "        selection.filter(BrunelD3.hasData)\n",
       "          .classed('selected', BrunelD3.isSelected(data))\n",
       "          .filter(BrunelD3.isSelected(data)).raise();\n",
       "        updateState(BrunelD3.transition(merged, transitionMillis));\n",
       "        label(merged, transitionMillis);\n",
       "\n",
       "        BrunelD3.transition(selection.exit(), transitionMillis/3)\n",
       "          .style('opacity', 0.5).each( function() {\n",
       "            this.remove(); BrunelD3.removeLabels(this); \n",
       "        });\n",
       "      }\n",
       "\n",
       "      return {\n",
       "        data:           function() { return processed },\n",
       "        original:       function() { return original },\n",
       "        internal:       function() { return data },\n",
       "        selection:      function() { return merged },\n",
       "        makeData:       makeData,\n",
       "        build:          build,\n",
       "        chart:          function() { return charts[0] },\n",
       "        group:          function() { return elementGroup },\n",
       "        fields: {\n",
       "          x:            ['AvgBldgAgeCat'],\n",
       "          y:            ['ComplaintDensityLevel'],\n",
       "          key:          ['AvgBldgAgeCat', 'ComplaintDensityLevel'],\n",
       "          color:        ['#count']\n",
       "        }\n",
       "      };\n",
       "    }();\n",
       "\n",
       "    function build(time, noData) {\n",
       "      var first = elements[0].data() == null;\n",
       "      if (first) time = 0;                                           // no transition for first call\n",
       "      if ((first || time > -1) && !noData) {\n",
       "        elements[0].makeData();\n",
       "        BrunelD3.addLegend(legends, legends._legend);\n",
       "      }\n",
       "      elements[0].build(time);\n",
       "    }\n",
       "\n",
       "    // Expose the following components of the chart\n",
       "    return {\n",
       "      elements : elements,\n",
       "      interior : interior,\n",
       "      zoom: function(params, time) {\n",
       "          if (params) zoom.on('zoom').call(zoomNode, params, time);\n",
       "          return d3.zoomTransform(zoomNode);\n",
       "      },\n",
       "      build : build\n",
       "    };\n",
       "    }();\n",
       "\n",
       "  function setData(rowData, i) { datasets[i||0] = BrunelD3.makeData(rowData) }\n",
       "  function updateAll(time) { charts.forEach(function(x) {x.build(time || 0)}) }\n",
       "  function buildAll() {\n",
       "    for (var i=0;i<arguments.length;i++) setData(arguments[i], i);\n",
       "    updateAll(transitionTime);\n",
       "  }\n",
       "\n",
       "  return {\n",
       "    dataPreProcess:     function(f) { if (f) pre = f; return pre },\n",
       "    dataPostProcess:    function(f) { if (f) post = f; return post },\n",
       "    data:               function(d,i) { if (d) setData(d,i); return datasets[i||0] },\n",
       "    visId:              visId,\n",
       "    build:              buildAll,\n",
       "    rebuild:            updateAll,\n",
       "    charts:             charts\n",
       "  }\n",
       "}\n",
       "\n",
       "// Data Tables /////////////////////////////////////////////////////////////////////////////////////\n",
       "\n",
       "var table1 = {\n",
       "   summarized: true,\n",
       "   names: ['AvgBldgAgeCat', 'ComplaintDensityLevel', '#count'], \n",
       "   options: ['string', 'string', 'numeric'], \n",
       "   rows: [['100<age<200', 'Low', 15], ['>200', 'Low', 10]]\n",
       "};\n",
       "\n",
       "// Call Code to Build the system ///////////////////////////////////////////////////////////////////\n",
       "\n",
       "var v  = new BrunelVis('visid1d09b5b6-95c0-11e8-9ef1-bab465bf01ad');\n",
       "v.build(table1);\n",
       "\n",
       "    });\n",
       "});"
      ],
      "text/plain": [
       "<IPython.core.display.Javascript object>"
      ]
     },
     "execution_count": 44,
     "metadata": {},
     "output_type": "execute_result"
    }
   ],
   "source": [
    "cdztop_pd = cdztop.toPandas()\n",
    "%brunel  data('cdztop_pd') chord x(AvgBldgAgeCat) y(ComplaintDensityLevel) color(#count) tooltip(#all)"
   ]
  },
  {
   "cell_type": "markdown",
   "metadata": {
    "deletable": true,
    "editable": true
   },
   "source": [
    "There is only one zipcode with average building age less than 100 years old so this segmentation could be improved, or more data would be required to get a further understanding. However, as expected, the houses that are greater than 200 years old have a tendency to have a complaint density level or either High or Very High."
   ]
  },
  {
   "cell_type": "markdown",
   "metadata": {
    "deletable": true,
    "editable": true
   },
   "source": [
    "## Saving the Data\n",
    "\n",
    "When saving, Spark will partition the data. It is worth understading how many rows are in your data as you can explicitly specify how many partitions you would like created"
   ]
  },
  {
   "cell_type": "code",
   "execution_count": 45,
   "metadata": {
    "collapsed": false,
    "deletable": true,
    "editable": true
   },
   "outputs": [
    {
     "data": {
      "text/plain": [
       "25"
      ]
     },
     "execution_count": 45,
     "metadata": {},
     "output_type": "execute_result"
    }
   ],
   "source": [
    "mdlDataDF.count()"
   ]
  },
  {
   "cell_type": "markdown",
   "metadata": {
    "deletable": true,
    "editable": true
   },
   "source": [
    "Since we only have a small amount of data we can keep it all together, we do this by calling \"coalesce\" and specifying the value *1*"
   ]
  },
  {
   "cell_type": "code",
   "execution_count": 46,
   "metadata": {
    "collapsed": true,
    "deletable": true,
    "editable": true
   },
   "outputs": [],
   "source": [
    "mergedMNcmp = mdlDataDF.coalesce(1)"
   ]
  },
  {
   "cell_type": "markdown",
   "metadata": {
    "deletable": true,
    "editable": true
   },
   "source": [
    "Similar to how we specified there was a header in the raw file, we pass this parameter to \"options\" after calling \"write\". We specify that we wish for the data to be saved in a csv format by passing the appropriate path and filename to the \"csv\" method."
   ]
  },
  {
   "cell_type": "code",
   "execution_count": 47,
   "metadata": {
    "collapsed": false,
    "deletable": true,
    "editable": true
   },
   "outputs": [],
   "source": [
    "mergedMNcmp.write.csv('../datasets/mnModelData.csv',header=True,mode=\"overwrite\")\n"
   ]
  },
  {
   "cell_type": "markdown",
   "metadata": {
    "collapsed": true,
    "deletable": true,
    "editable": true
   },
   "source": [
    "We repeat for the subset of pluto data"
   ]
  },
  {
   "cell_type": "code",
   "execution_count": 48,
   "metadata": {
    "collapsed": false,
    "deletable": true,
    "editable": true
   },
   "outputs": [
    {
     "data": {
      "text/plain": [
       "56"
      ]
     },
     "execution_count": 48,
     "metadata": {},
     "output_type": "execute_result"
    }
   ],
   "source": [
    "plutoSubdf.count()"
   ]
  },
  {
   "cell_type": "code",
   "execution_count": 49,
   "metadata": {
    "collapsed": true,
    "deletable": true,
    "editable": true
   },
   "outputs": [],
   "source": [
    "plutoSubcmp = plutoSubdf.coalesce(1)"
   ]
  },
  {
   "cell_type": "code",
   "execution_count": 50,
   "metadata": {
    "collapsed": true,
    "deletable": true,
    "editable": true
   },
   "outputs": [],
   "source": [
    "plutoSubcmp.write.csv('../datasets/mnAgrData.csv',header=\"true\",mode=\"overwrite\")"
   ]
  },
  {
   "cell_type": "code",
   "execution_count": 51,
   "metadata": {
    "collapsed": false,
    "deletable": true,
    "editable": true
   },
   "outputs": [
    {
     "name": "stdout",
     "output_type": "stream",
     "text": [
      "total 19230\r\n",
      "-rwx------. 1 999 root  6710815 Aug  1 18:46 311_Service_Requests_from_2015_subset.csv\r\n",
      "drwxrwxrwx. 2 999 999      4096 Aug  1 19:22 mnAgrData.csv\r\n",
      "-rwx------. 1 999 root 12972032 Aug  1 19:17 MN.csv\r\n",
      "drwxrwxrwx. 2 999 999      4096 Aug  1 19:22 mnModelData.csv\r\n"
     ]
    }
   ],
   "source": [
    "!ls -l ../datasets\n"
   ]
  },
  {
   "cell_type": "code",
   "execution_count": null,
   "metadata": {
    "collapsed": true
   },
   "outputs": [],
   "source": []
  }
 ],
 "metadata": {
  "kernelspec": {
   "display_name": "Python2.7 with DSX Spark 2.0.2",
   "language": "python",
   "name": "python2"
  },
  "language_info": {
   "codemirror_mode": {
    "name": "ipython",
    "version": 2
   },
   "file_extension": ".py",
   "mimetype": "text/x-python",
   "name": "python",
   "nbconvert_exporter": "python",
   "pygments_lexer": "ipython2",
   "version": "2.7.13"
  }
 },
 "nbformat": 4,
 "nbformat_minor": 2
}
